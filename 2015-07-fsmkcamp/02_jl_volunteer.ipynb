{
 "cells": [
  {
   "cell_type": "markdown",
   "metadata": {
    "slideshow": {
     "slide_type": "skip"
    }
   },
   "source": [
    "<small><i>\"Bootstrap your FOSS journey with Julia\", a one-hour talk by [SVAKSHA](http://svaksha.com/pages/Bio) for the FSMK-Camp-2015, Reva University, Bengaluru-IN, presented on 2015July23, freely available as Jupyter notebooks stored in the [IRA](https://github.com/svaksha/jna/) repo with the source, copyright © and licence info.</i> </small>"
   ]
  },
  {
   "cell_type": "markdown",
   "metadata": {
    "slideshow": {
     "slide_type": "slide"
    }
   },
   "source": [
    "# Volunteer "
   ]
  },
  {
   "cell_type": "markdown",
   "metadata": {
    "slideshow": {
     "slide_type": "slide"
    }
   },
   "source": [
    "## Preliminaries\n",
    "Before you can start contributing to Julia, here are some basics that you would need to know and do:"
   ]
  },
  {
   "cell_type": "markdown",
   "metadata": {
    "slideshow": {
     "slide_type": "subslide"
    }
   },
   "source": [
    "### Install Julia\n",
    "\n",
    "+ [Download](http://julialang.org/downloads/) and install Julia locally.\n",
    "+ First, install all the dependencies."
   ]
  },
  {
   "cell_type": "markdown",
   "metadata": {
    "slideshow": {
     "slide_type": "subslide"
    }
   },
   "source": [
    "### Checking your installation\n",
    "\n",
    "+ Check if Julia (and its package dependencies) are installed on your system:\n",
    "\n",
    "(in the REPL, type `julia`)"
   ]
  },
  {
   "cell_type": "code",
   "execution_count": null,
   "metadata": {
    "collapsed": true,
    "slideshow": {
     "slide_type": "subslide"
    }
   },
   "outputs": [],
   "source": [
    "$ julia\n",
    "               _\n",
    "   _       _ _(_)_     |  A fresh approach to technical computing\n",
    "  (_)     | (_) (_)    |  Documentation: http://docs.julialang.org\n",
    "   _ _   _| |_  __ _   |  Type \"help()\" for help.\n",
    "  | | | | | | |/ _` |  |\n",
    "  | | |_| | | | (_| |  |  Version 0.4.0-dev+6095 (2015-07-20 14:38 UTC)\n",
    " _/ |\\__'_|_|_|\\__'_|  |  Commit c75f4d4* (2 days old master)\n",
    "|__/                   |  x86_64-linux-gnu\n"
   ]
  },
  {
   "cell_type": "markdown",
   "metadata": {},
   "source": [
    "### Version\n",
    "\n",
    "+ Which Julia version should you install and use? \n",
    "    + 32-bit or 64-bit? \n",
    "    + Stable or Unstable?\n",
    "    \n",
    "+ Different ways to run and use Julia : \n",
    "    + Install the current `stable` release - v0.3.10, locally. \n",
    "    + Julia + Juno IDE bundles with integrated code editing and evaluation.\n",
    "    + Point your browser to [JuliaBox](https://www.juliabox.org), create a login to start computing. \n",
    "        - PROs: No installation is required.\n",
    "        - CONs: Temporary storage.\n",
    "    + Nightly builds == Unstable == current git `master`.\n",
    "        - Install the bleeding-edge binaries if you wish to contribute to the Julia core development.\n",
    "        - Rapid devel pace.\n",
    "        - Expect frequent breakages.\n",
    "\n",
    "+ To contribute to the Julia language, read the [how-to contribute](https://github.com/JuliaLang/julia/blob/master/CONTRIBUTING.md) page for additional information."
   ]
  },
  {
   "cell_type": "markdown",
   "metadata": {
    "slideshow": {
     "slide_type": "slide"
    }
   },
   "source": [
    "## Contributing to Julia core development\n",
    "\n",
    "+ To contribute to the Julia language, read the [how-to contribute](https://github.com/JuliaLang/julia/blob/master/CONTRIBUTING.md) page.\n",
    "+ Get familiar with the [continuous integration](https://github.com/svaksha/Julia.jl/blob/master/Build-Automation.md#continuous-integration) tools and [git hooks](https://github.com/svaksha/Julia.jl/blob/master/Build-Automation.md#git-hooks) available.\n"
   ]
  },
  {
   "cell_type": "markdown",
   "metadata": {
    "slideshow": {
     "slide_type": "slide"
    }
   },
   "source": [
    "\n",
    "#### Bug Triage\n",
    "+ Julia uses Github as their bug tracker\n",
    "+ Check the [up for grabs](https://github.com/JuliaLang/julia/labels/up%20for%20grabs) label on Github. \n",
    "\n",
    "_PS: Not all the bugs tagged thus are meant for newbies to programming_.\n",
    "\n"
   ]
  },
  {
   "cell_type": "markdown",
   "metadata": {
    "slideshow": {
     "slide_type": "slide"
    }
   },
   "source": [
    "#### Documentation\n",
    "\n",
    "+ Technical documentation is a crucial, often neglected aspect of FOSS.\n",
    "+ Why should we write good docs?\n",
    "   + Bus factor\n",
    "   + Code readability\n",
    "   + Encourage new contributors\n",
    "+ [How to write better documentation](http://opensource.com/business/15/5/write-better-docs)\n",
    "\n",
    "__Julia__\n",
    "+ [Documentation bugs](https://github.com/JuliaLang/julia/issues?q=is%3Aopen+is%3Aissue+label%3Adoc) are tagged as `doc` and marked as `open`.\n",
    "    - Example : \n",
    "        * Bug [#12188](https://github.com/JuliaLang/julia/issues/12188) : [FAQ: document why system-specific Float alias doesn't make sense ](data/doc-system-specific-float.png).\n"
   ]
  },
  {
   "cell_type": "markdown",
   "metadata": {
    "slideshow": {
     "slide_type": "slide"
    }
   },
   "source": [
    "#### Writing Tests\n",
    "\n",
    "+ Bug [#11885](https://github.com/JuliaLang/julia/issues/11885) :: The Push for 90% Test Coverage. \n",
    "+ Check out the [coveralls](https://coveralls.io/r/timholy/julia) page for a quickview of ToDo tests.\n",
    "    + CI Buildbot"
   ]
  },
  {
   "cell_type": "markdown",
   "metadata": {},
   "source": [
    "\n",
    "#### Libraries\n",
    "\n",
    "+ Extensive scientific libraries exist for a variety of applications. \n",
    "    - [Astronomy](https://github.com/svaksha/Julia.jl/blob/master/Astronomy.md), [Mathematics](https://github.com/svaksha/Julia.jl/blob/master/Mathematics.md), [HPC](https://github.com/svaksha/Julia.jl/blob/master/HPC.md), [Statistics](https://github.com/svaksha/Julia.jl/blob/master/Statistics.md), [Physics](https://github.com/svaksha/Julia.jl/blob/master/Physics.md), [Chemistry](https://github.com/svaksha/Julia.jl/blob/master/Chemistry.md), [Biology](https://github.com/svaksha/Julia.jl/blob/master/Biology.md),  [AI](https://github.com/svaksha/Julia.jl/blob/master/AI.md), [Geography](https://github.com/svaksha/Julia.jl/blob/master/Earth-Science.md) and lots more at [Julia.jl](https://svaksha.github.io/Julia.jl/)!\n",
    "\n",
    "+ Help improve the libs by __packaging, porting and testing__ them on the unstable master version, etc.."
   ]
  },
  {
   "cell_type": "markdown",
   "metadata": {},
   "source": [
    "## Dev Utilities\n",
    "\n",
    "Important to familiarize oneself with the tools nd utilities used by developers.\n",
    "\n",
    "#### DVCS\n",
    "    + Git is the distributed version control system used by Julia.\n",
    "\n",
    "#### IDEs\n",
    "    + Juno IDE bundle features integrated code editing and evaluation.\n",
    "    + Emacs - Julia bindings, for syntax hilighting and code evaluation.\n",
    "    \n",
    "#### CLI tools\n",
    "    + Some Bash scripting \n",
    "    + Automate repetitive tasks - pull master\n",
    "\n",
    "#### Packaging & OS\n",
    "    + Understand your OS packaging system.\n",
    "    + Easy to debug when `unstable` wrecks havoc.\n",
    "      "
   ]
  },
  {
   "cell_type": "markdown",
   "metadata": {
    "slideshow": {
     "slide_type": "skip"
    }
   },
   "source": [
    "<i><small><center ; style=\"color:red\">PreviousNB [01_jl_introduction.ipynb](http://nbviewer.ipython.org/github/svaksha/jna/tree/master/2015-fsmk-camp/01_jl_introduction.ipynb) || CurrentNB : [02_jl_volunteer.ipynb](http://nbviewer.ipython.org/github/svaksha/jna/blob/master/2015-fsmk-camp/02_jl_volunteer.ipynb) || NextNB : [03_foss_orgs.ipynb](http://nbviewer.ipython.org/github/svaksha/jna/blob/master/2015-fsmk-camp/03_foss_orgs.ipynb)</center></small></i> "
   ]
  }
 ],
 "metadata": {
  "celltoolbar": "Slideshow",
  "kernelspec": {
   "display_name": "Python 2",
   "language": "python",
   "name": "python2"
  },
  "language_info": {
   "name": "julia",
   "version": "0.4.0"
  }
 },
 "nbformat": 4,
 "nbformat_minor": 0
}
