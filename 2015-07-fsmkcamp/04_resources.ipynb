{
 "cells": [
  {
   "cell_type": "markdown",
   "metadata": {
    "slideshow": {
     "slide_type": "skip"
    }
   },
   "source": [
    "<small><i>\"Bootstrap your FOSS journey with Julia\", a one-hour talk by [SVAKSHA](http://svaksha.com/pages/Bio) for the FSMK-Camp-2015, Reva University, Bengaluru-IN, presented on 2015July23, freely available as Jupyter notebooks stored in the [IRA](https://github.com/svaksha/ira/) repo with the source, copyright © and licence info.</i> </small>"
   ]
  },
  {
   "cell_type": "markdown",
   "metadata": {
    "slideshow": {
     "slide_type": "slide"
    }
   },
   "source": [
    "# RESOURCES!"
   ]
  },
  {
   "cell_type": "markdown",
   "metadata": {
    "slideshow": {
     "slide_type": "slide"
    }
   },
   "source": [
    "A list of useful links and reading material on various topics!\n",
    "### OS\n",
    "+ [Debian](http://debian.org) :: The Universal Operating System whose package management system is the axis for many Linux distros.\n",
    "+ [Ubuntu Linux](http://www.ubuntu.com/) :: The most popular desktop distribution, Ubuntu has bi-annual and LTS releases, aiming to provide a polished desktop UX experience.\n",
    "+ [Fedora](http://fedoraproject.org/) :: A free distribution from Red Hat Inc. with semi-annual releases, and a good desktop UI.\n",
    "+ [Linux Mint](http://linuxmint.com/) :: A desktop-oriented distribution based on Ubuntu, with customized desktops, and support for more hardware. \n",
    "+ and many more...\n",
    "\n",
    "### Interesting Links on Sexism and Misogyny!\n",
    "+ [Why women talk less](https://debuk.wordpress.com/2015/05/23/why-women-talk-less/) by Debuk.\n",
    "+ PLOS Scientific Paper: [Insights into Sexism: Male Status and Performance Moderates Female-Directed Hostile and Amicable Behaviour](http://journals.plos.org/plosone/article?id=10.1371/journal.pone.0131613), Michael M. Kasumovic, Jeffrey H. Kuznekoff, PLOS, 2015/Jul/15. DOI: 10.1371/journal.pone.0131613.\n",
    "+ [GeekFeminism](http://geekfeminism.org) : A blog on Women, feminism, and geek culture!\n",
    "+ [Geek Feminism Wiki](http://geekfeminism.wikia.com/wiki/Geek_Feminism_Wiki) : A resource for and about women in geek communities with over 1,200 articles since May 2008.\n",
    "    * A  timeline of [sexist incidents in geek communities](http://geekfeminism.wikia.com/wiki/Timeline_of_incidents).\n",
    "    * [Why Real name policies are harmful](http://geekfeminism.wikia.com/wiki/Who_is_harmed_by_a_%22Real_Names%22_policy%3F).    \n",
    "+ [List of women in Foss](http://geekfeminism.wikia.com/wiki/List_of_women_in_FLOSS)\n",
    "+ [Women & Foss Organisations](http://geekfeminism.wikia.com/wiki/Category:Women_in_open_source_organizations).\n",
    "+ Template for an [anti-harassment policy](http://geekfeminism.wikia.com/wiki/Conference_anti-harassment/Policy).\n",
    "\n",
    "### Licenses\n",
    "+ [Foss licenses](https://en.wikipedia.org/wiki/Free_software_license) on Wikipedia.\n"
   ]
  },
  {
   "cell_type": "markdown",
   "metadata": {
    "slideshow": {
     "slide_type": "slide"
    }
   },
   "source": [
    "## ThankYou & Questions!\n"
   ]
  },
  {
   "cell_type": "markdown",
   "metadata": {
    "slideshow": {
     "slide_type": "skip"
    }
   },
   "source": [
    "<i><small><center ; style=\"color:red\">PreviousNB [03_foss_orgs.ipynb](http://nbviewer.ipython.org/github/svaksha/ira/tree/master/2015-07-fsmkcamp/03_foss_orgs.ipynb) || CurrentNB : [04_resources.ipynb](http://nbviewer.ipython.org/github/svaksha/ira/blob/master/2015-07-fsmkcamp/04_resources.ipynb) || NextNB : [00_index.ipynb](http://nbviewer.ipython.org/github/svaksha/ira/blob/master/2015-07-fsmkcamp/00_index.ipynb)</center></small></i>"
   ]
  }
 ],
 "metadata": {
  "celltoolbar": "Slideshow",
  "kernelspec": {
   "display_name": "Python 2",
   "language": "python",
   "name": "python2"
  },
  "language_info": {
   "codemirror_mode": {
    "name": "ipython",
    "version": 2
   },
   "file_extension": ".py",
   "mimetype": "text/x-python",
   "name": "python",
   "nbconvert_exporter": "python",
   "pygments_lexer": "ipython2",
   "version": "2.7.10"
  }
 },
 "nbformat": 4,
 "nbformat_minor": 0
}
