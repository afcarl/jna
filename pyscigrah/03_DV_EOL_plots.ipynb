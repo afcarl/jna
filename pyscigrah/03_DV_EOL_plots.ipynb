{
 "metadata": {
  "name": ""
 },
 "nbformat": 3,
 "nbformat_minor": 0,
 "worksheets": [
  {
   "cells": [
    {
     "cell_type": "markdown",
     "metadata": {
      "slideshow": {
       "slide_type": "skip"
      }
     },
     "source": [
      "<style>\n",
      "div.cell, div.text_cell_render{\n",
      "  max-width:750px;\n",
      "  margin-left:auto;\n",
      "  margin-right:auto;\n",
      "}\n",
      "\n",
      ".rendered_html\n",
      "{\n",
      "  font-size: 140%;\n",
      "  }\n",
      "\n",
      ".rendered_html li\n",
      "{\n",
      "  line-height: 1.8;\n",
      "  }\n",
      "\n",
      ".rendered_html h1, h2 {\n",
      "  text-align:center;\n",
      "  font-familly:\"Charis SIL\", serif;\n",
      "}\n",
      "\n",
      ".input_prompt, .CodeMirror-lines, .output_area\n",
      "{\n",
      "  font-family: Consolas;\n",
      "  font-size: 110%;\n",
      "  }\n",
      "</style>"
     ]
    },
    {
     "cell_type": "markdown",
     "metadata": {},
     "source": [
      "<h6 style=\"text-align:centre; color:purple;\">This collection of scientific programming IPython notebooks have been authored by  [SVAKSHA](http://svaksha.com/pages/Bio), with the source, copyright \u00a9 and licence info available at [GitHub](https://github.com/svaksha/ira/) and the [GitLab](https://gitlab.com/svaksha/ira) mirror.</h6>"
     ]
    },
    {
     "cell_type": "markdown",
     "metadata": {
      "slideshow": {
       "slide_type": "slide"
      }
     },
     "source": [
      "# VISUALIZATION"
     ]
    },
    {
     "cell_type": "markdown",
     "metadata": {},
     "source": [
      "This notebook runs on Anaconda, which imports various scientific Python libraries required for plotting and visualization. Import shorthand legend for libraries::\n",
      "\n",
      "- numpy as `np`,\n",
      "- matplotlib's plotting routines as `plt`, \n",
      "- pandas as `pd`, etc.. "
     ]
    },
    {
     "cell_type": "heading",
     "level": 2,
     "metadata": {
      "slideshow": {
       "slide_type": "slide"
      }
     },
     "source": [
      "Plotting"
     ]
    },
    {
     "cell_type": "code",
     "collapsed": false,
     "input": [
      "import sys, os, os.path\n",
      "import numpy as np\n",
      "import pandas as pd\n",
      "\n",
      "# Plotting the data-objects ratings on EOL v2 site\n",
      "dir_path = os.path.realpath('datasets')\n",
      "sys.path.append(dir_path)\n",
      "data_fn = 'Data-Object-Rating.csv'                               \n",
      "data_file = (os.path.join(dir_path, data_fn))\n",
      "#data = np.genfromtxt(data_file, delimiter=',', names=True)\n",
      "data = pd.read_csv(data_file, delimiter='\\t')\n",
      "data.head()\n",
      "print (data)\n",
      "data.plot(legend=False)\n",
      "xlim(0, 3); ylim(0, 50000)\n",
      "plt.xlabel('Curators')\n",
      "plt.ylabel('Stars')\n",
      "plt.title('Data-Object-Rating')\n",
      "plt.axis([0.0,3.0,0, 50000])\n",
      "plt.grid(True)"
     ],
     "language": "python",
     "metadata": {},
     "outputs": [
      {
       "output_type": "stream",
       "stream": "stdout",
       "text": [
        "    660  839  56752\n",
        "0   423  699  39636\n",
        "1   455  527  47432\n",
        "2   789  479  24827\n",
        "3  2968  587  13808\n",
        "\n",
        "[4 rows x 3 columns]\n"
       ]
      },
      {
       "metadata": {},
       "output_type": "display_data",
       "png": "[encoded data removed]",
       "text": [
        "<matplotlib.figure.Figure at 0xadea44cc>"
       ]
      }
     ],
     "prompt_number": 1
    },
    {
     "cell_type": "code",
     "collapsed": false,
     "input": [
      "import sys, os, os.path\n",
      "import datetime\n",
      "import numpy as np\n",
      "import pandas as pd\n",
      "import pandas.io.data\n",
      "from pandas import Series, DataFrame\n",
      "import matplotlib.pyplot as plt\n",
      "from matplotlib.pyplot import gcf\n",
      "    \n",
      "ratings_dataobj= {\n",
      "                  'Col_name': ['Non-Curators','Assistant-Curators', 'Full-Master-Curators'],\n",
      "                  '1-star': [660, 839, 56752],\n",
      "                  '2-star': [423, 699, 39636],\n",
      "                  '3-star': [455, 527, 47432],\n",
      "                  '4-star': [789, 479, 24827],\n",
      "                  '5-star': [2968, 587, 13808],\n",
      "                  }\n",
      "df = pd.DataFrame.from_dict(ratings_dataobj)\n",
      "print(df)\n",
      "# Bar plot, line graph\n",
      "plt.bar(range(len(df)), df.values(), align='center')\n",
      "plt.xticks(range(len(df)), df.keys())\n",
      "plt.show()"
     ],
     "language": "python",
     "metadata": {},
     "outputs": [
      {
       "ename": "TypeError",
       "evalue": "'numpy.ndarray' object is not callable",
       "output_type": "pyerr",
       "traceback": [
        "\u001b[1;31m---------------------------------------------------------------------------\u001b[0m\n\u001b[1;31mTypeError\u001b[0m                                 Traceback (most recent call last)",
        "\u001b[1;32m<ipython-input-20-6c14f8a82c29>\u001b[0m in \u001b[0;36m<module>\u001b[1;34m()\u001b[0m\n\u001b[0;32m     19\u001b[0m \u001b[0mdf\u001b[0m \u001b[1;33m=\u001b[0m \u001b[0mpd\u001b[0m\u001b[1;33m.\u001b[0m\u001b[0mDataFrame\u001b[0m\u001b[1;33m.\u001b[0m\u001b[0mfrom_dict\u001b[0m\u001b[1;33m(\u001b[0m\u001b[0mratings_dataobj\u001b[0m\u001b[1;33m)\u001b[0m\u001b[1;33m\u001b[0m\u001b[0m\n\u001b[0;32m     20\u001b[0m \u001b[0mprint\u001b[0m\u001b[1;33m(\u001b[0m\u001b[0mdf\u001b[0m\u001b[1;33m)\u001b[0m\u001b[1;33m\u001b[0m\u001b[0m\n\u001b[1;32m---> 21\u001b[1;33m \u001b[0mplt\u001b[0m\u001b[1;33m.\u001b[0m\u001b[0mbar\u001b[0m\u001b[1;33m(\u001b[0m\u001b[0mrange\u001b[0m\u001b[1;33m(\u001b[0m\u001b[0mlen\u001b[0m\u001b[1;33m(\u001b[0m\u001b[0mdf\u001b[0m\u001b[1;33m)\u001b[0m\u001b[1;33m)\u001b[0m\u001b[1;33m,\u001b[0m \u001b[0mdf\u001b[0m\u001b[1;33m.\u001b[0m\u001b[0mvalues\u001b[0m\u001b[1;33m(\u001b[0m\u001b[1;33m)\u001b[0m\u001b[1;33m,\u001b[0m \u001b[0malign\u001b[0m\u001b[1;33m=\u001b[0m\u001b[1;34m'center'\u001b[0m\u001b[1;33m)\u001b[0m\u001b[1;33m\u001b[0m\u001b[0m\n\u001b[0m\u001b[0;32m     22\u001b[0m \u001b[0mplt\u001b[0m\u001b[1;33m.\u001b[0m\u001b[0mxticks\u001b[0m\u001b[1;33m(\u001b[0m\u001b[0mrange\u001b[0m\u001b[1;33m(\u001b[0m\u001b[0mlen\u001b[0m\u001b[1;33m(\u001b[0m\u001b[0mdf\u001b[0m\u001b[1;33m)\u001b[0m\u001b[1;33m)\u001b[0m\u001b[1;33m,\u001b[0m \u001b[0mdf\u001b[0m\u001b[1;33m.\u001b[0m\u001b[0mkeys\u001b[0m\u001b[1;33m(\u001b[0m\u001b[1;33m)\u001b[0m\u001b[1;33m)\u001b[0m\u001b[1;33m\u001b[0m\u001b[0m\n\u001b[0;32m     23\u001b[0m \u001b[1;33m\u001b[0m\u001b[0m\n",
        "\u001b[1;31mTypeError\u001b[0m: 'numpy.ndarray' object is not callable"
       ]
      },
      {
       "output_type": "stream",
       "stream": "stdout",
       "text": [
        "   1-star  2-star  3-star  4-star  5-star              Col_name\n",
        "0     660     423     455     789    2968          Non-Curators\n",
        "1     839     699     527     479     587    Assistant-Curators\n",
        "2   56752   39636   47432   24827   13808  Full-Master-Curators\n",
        "\n",
        "[3 rows x 6 columns]\n"
       ]
      }
     ],
     "prompt_number": 20
    },
    {
     "cell_type": "code",
     "collapsed": false,
     "input": [
      "%pylab inline"
     ],
     "language": "python",
     "metadata": {
      "slideshow": {
       "slide_type": "fragment"
      }
     },
     "outputs": [
      {
       "output_type": "stream",
       "stream": "stdout",
       "text": [
        "Populating the interactive namespace from numpy and matplotlib\n"
       ]
      }
     ],
     "prompt_number": 12
    },
    {
     "cell_type": "heading",
     "level": 1,
     "metadata": {
      "slideshow": {
       "slide_type": "slide"
      }
     },
     "source": [
      "API"
     ]
    },
    {
     "cell_type": "markdown",
     "metadata": {
      "slideshow": {
       "slide_type": "fragment"
      }
     },
     "source": [
      "- Short for *A*pplication *P*rogramming *I*nterface.\n",
      "- A platform for you to *interact* with your code and data\n",
      "- The *notebook*: a system for *literate computing*\n",
      "  * The combination of narrative, code and results\n",
      "  * Weave your scientific narratives together with your computational process\n",
      "- Tools for easy parallel computing\n",
      "  * Interact with *many* processes\n",
      " \n",
      "An API is a software-to-software interface (not a user interface) protocol intended to be used as an interface by software components to communicate with each other. The API contains a set of  programming instructions and standards for accessing web based software applications, allowing applications to talk to each other without any user knowledge or intervention."
     ]
    },
    {
     "cell_type": "markdown",
     "metadata": {},
     "source": [
      "### The EOL Application Programming Interface."
     ]
    },
    {
     "cell_type": "markdown",
     "metadata": {},
     "source": [
      "First, we\u2019ll need to figure out what information we want to query. Mostly, the API Documentation gives you all of the different parameters that you can specify and the correct syntax.\n",
      "\n",
      "There are various data formats available for storing data: \n",
      "\n",
      " - [XML](http://en.wikipedia.org/wiki/XML) (Extensible Markup Language is a markup language.)\n",
      " - [JSON](http://en.wikipedia.org/wiki/JSON) (JavaScript Object Notation)\n",
      " - SOAP (Simple Object Access Protocol, relies on XML)\n",
      " - Scribe (markup language), \n",
      " - IBM Generalized Markup Language,\n",
      " - SGML (Standard Generalized Markup Language), and many more.\n",
      "\n",
      "[EOL](http://eol.org) uses JSON (and XML) as their API format and in the following example, we\u2019re going to get the JSON data for \"Owls\", a subset of the \"Birds\" category. "
     ]
    },
    {
     "cell_type": "code",
     "collapsed": false,
     "input": [
      "#!/usr/bin/env python\n",
      "#coding = utf-8\n",
      "from __future__ import (absolute_import, division,print_function, unicode_literals)\n",
      "import requests\n",
      "import ujson\n",
      "import pprint\n",
      "\n",
      "owl = requests.get(\"http://eol.org/api/search/Owl.json\")\n",
      "owl.text    \n",
      "# Convert it to a Python dictionary\n",
      "ujson.loads(owl.text)"
     ],
     "language": "python",
     "metadata": {},
     "outputs": [
      {
       "metadata": {},
       "output_type": "pyout",
       "prompt_number": 3,
       "text": [
        "{'first': 'http://eol.org/api/search/Owl.json?page=1',\n",
        " 'itemsPerPage': 30,\n",
        " 'last': 'http://eol.org/api/search/Owl.json?page=13',\n",
        " 'next': 'http://eol.org/api/search/Owl.json?page=2',\n",
        " 'results': [{'content': 'Strigiformes; Strigiformes Wagler, 1830',\n",
        "   'id': 696,\n",
        "   'link': 'http://eol.org/696?action=overview&controller=taxa',\n",
        "   'title': 'Strigiformes'},\n",
        "  {'content': 'Burrowing Owl',\n",
        "   'id': 1045997,\n",
        "   'link': 'http://eol.org/1045997?action=overview&controller=taxa',\n",
        "   'title': 'Athene cunicularia (Molina, 1782)'},\n",
        "  {'content': 'Barn Owl',\n",
        "   'id': 914939,\n",
        "   'link': 'http://eol.org/914939?action=overview&controller=taxa',\n",
        "   'title': 'Tyto alba (Scopoli, 1769)'},\n",
        "  {'content': 'Short-eared Owl',\n",
        "   'id': 915736,\n",
        "   'link': 'http://eol.org/915736?action=overview&controller=taxa',\n",
        "   'title': 'Asio flammeus (Pontoppidan, 1763)'},\n",
        "  {'content': 'Great Grey Owl',\n",
        "   'id': 915649,\n",
        "   'link': 'http://eol.org/915649?action=overview&controller=taxa',\n",
        "   'title': 'Strix nebulosa J. R. Forster, 1772'},\n",
        "  {'content': 'Spotted Owl',\n",
        "   'id': 913287,\n",
        "   'link': 'http://eol.org/913287?action=overview&controller=taxa',\n",
        "   'title': 'Strix occidentalis (Xantus de Vesey, 1860)'},\n",
        "  {'content': 'Long-eared Owl',\n",
        "   'id': 915724,\n",
        "   'link': 'http://eol.org/915724?action=overview&controller=taxa',\n",
        "   'title': 'Asio otus (Linnaeus, 1758)'},\n",
        "  {'content': 'Spectacled Owl',\n",
        "   'id': 1178320,\n",
        "   'link': 'http://eol.org/1178320?action=overview&controller=taxa',\n",
        "   'title': 'Pulsatrix perspicillata (Latham, 1790)'},\n",
        "  {'content': 'Eastern Screech Owl',\n",
        "   'id': 1025102,\n",
        "   'link': 'http://eol.org/1025102?action=overview&controller=taxa',\n",
        "   'title': 'Megascops asio (Linnaeus, 1758)'},\n",
        "  {'content': 'Barred Owl',\n",
        "   'id': 1045909,\n",
        "   'link': 'http://eol.org/1045909?action=overview&controller=taxa',\n",
        "   'title': 'Strix varia Barton 1799'},\n",
        "  {'content': 'Little Owl',\n",
        "   'id': 1178306,\n",
        "   'link': 'http://eol.org/1178306?action=overview&controller=taxa',\n",
        "   'title': 'Athene noctua'},\n",
        "  {'content': 'Great Horned Owl',\n",
        "   'id': 914958,\n",
        "   'link': 'http://eol.org/914958?action=overview&controller=taxa',\n",
        "   'title': 'Bubo virginianus (Gmelin, 1788)'},\n",
        "  {'content': 'Tengmalm s Owl',\n",
        "   'id': 915739,\n",
        "   'link': 'http://eol.org/915739?action=overview&controller=taxa',\n",
        "   'title': 'Aegolius funereus (Linnaeus, 1758)'},\n",
        "  {'content': 'Snowy Owl',\n",
        "   'id': 1036388,\n",
        "   'link': 'http://eol.org/1036388?action=overview&controller=taxa',\n",
        "   'title': 'Bubo scandiacus'},\n",
        "  {'content': 'Western Screech Owl',\n",
        "   'id': 1025101,\n",
        "   'link': 'http://eol.org/1025101?action=overview&controller=taxa',\n",
        "   'title': 'Megascops kennicottii (Elliot, 1867)'},\n",
        "  {'content': 'Tawny Wood Owl',\n",
        "   'id': 1178288,\n",
        "   'link': 'http://eol.org/1178288?action=overview&controller=taxa',\n",
        "   'title': 'Strix aluco Linnaeus 1758'},\n",
        "  {'content': 'flammulated owl',\n",
        "   'id': 914940,\n",
        "   'link': 'http://eol.org/914940?action=overview&controller=taxa',\n",
        "   'title': 'Otus flammeolus'},\n",
        "  {'content': 'ferruginous pygmy-owl',\n",
        "   'id': 915118,\n",
        "   'link': 'http://eol.org/915118?action=overview&controller=taxa',\n",
        "   'title': 'Glaucidium brasilianum (Gmelin, 1788)'},\n",
        "  {'content': 'elf owl',\n",
        "   'id': 1046661,\n",
        "   'link': 'http://eol.org/1046661?action=overview&controller=taxa',\n",
        "   'title': 'Micrathene whitneyi (J. G. Cooper, 1861)'},\n",
        "  {'content': 'northern saw-whet owl',\n",
        "   'id': 915740,\n",
        "   'link': 'http://eol.org/915740?action=overview&controller=taxa',\n",
        "   'title': 'Aegolius acadicus (Gmelin, 1788)'},\n",
        "  {'content': 'Hawk Owl',\n",
        "   'id': 913152,\n",
        "   'link': 'http://eol.org/913152?action=overview&controller=taxa',\n",
        "   'title': 'Surnia ulula (Linnaeus, 1758)'},\n",
        "  {'content': 'Black-and-white Owl',\n",
        "   'id': 1178316,\n",
        "   'link': 'http://eol.org/1178316?action=overview&controller=taxa',\n",
        "   'title': 'Ciccaba nigrolineata P. L. Sclater, 1859'},\n",
        "  {'content': 'Spotted Little Owl',\n",
        "   'id': 1178307,\n",
        "   'link': 'http://eol.org/1178307?action=overview&controller=taxa',\n",
        "   'title': 'Athene brama (Temminck, 1821)'},\n",
        "  {'content': 'Northern Pygmy-Owl',\n",
        "   'id': 913157,\n",
        "   'link': 'http://eol.org/913157?action=overview&controller=taxa',\n",
        "   'title': 'Glaucidium gnoma Wagler 1832'},\n",
        "  {'content': 'Striped Owl',\n",
        "   'id': 1178346,\n",
        "   'link': 'http://eol.org/1178346?action=overview&controller=taxa',\n",
        "   'title': 'Pseudoscops clamator (Vieillot, 1808)'},\n",
        "  {'content': 'Crested Owl',\n",
        "   'id': 1178319,\n",
        "   'link': 'http://eol.org/1178319?action=overview&controller=taxa',\n",
        "   'title': 'Lophostrix cristata (Daudin, 1800)'},\n",
        "  {'content': 'Eurasian Eagle-Owl',\n",
        "   'id': 1178250,\n",
        "   'link': 'http://eol.org/1178250?action=overview&controller=taxa',\n",
        "   'title': 'Bubo bubo (Linnaeus, 1758)'},\n",
        "  {'content': 'Mottled Owl',\n",
        "   'id': 1178572,\n",
        "   'link': 'http://eol.org/1178572?action=overview&controller=taxa',\n",
        "   'title': 'Ciccaba virgata (Cassin, 1849)'},\n",
        "  {'content': 'Stygian Owl',\n",
        "   'id': 1178298,\n",
        "   'link': 'http://eol.org/1178298?action=overview&controller=taxa',\n",
        "   'title': 'Asio stygius (Wagler, 1832)'},\n",
        "  {'content': 'spotted screech owl',\n",
        "   'id': 1025098,\n",
        "   'link': 'http://eol.org/1025098?action=overview&controller=taxa',\n",
        "   'title': 'Megascops trichopsis (Wagler, 1832)'}],\n",
        " 'self': 'http://eol.org/api/search/Owl.json?page=1',\n",
        " 'startIndex': 1,\n",
        " 'totalResults': 381}"
       ]
      }
     ],
     "prompt_number": 3
    },
    {
     "cell_type": "markdown",
     "metadata": {},
     "source": [
      "After fetching the data, we stored the JSON data into a dictionary, which reduces the formatting issues. Here is some (Python) code that queries the EOL Api and returns the collection as a dictionary:"
     ]
    },
    {
     "cell_type": "markdown",
     "metadata": {},
     "source": [
      "Using the API to get data about Robins."
     ]
    },
    {
     "cell_type": "code",
     "collapsed": false,
     "input": [
      "import requests\n",
      "import ujson\n",
      "import pprint\n",
      "import sys, os, os.path\n",
      "\n",
      "full_path = os.path.realpath('datasets')\n",
      "sys.path.append(full_path)\n",
      "robinjson = 'robin.json'\n",
      "robin_file = (os.path.join(full_path, robinjson))\n",
      "#sys.path.append(full_path)\n",
      "robin_file = requests.get('http://eol.org/api/search/Robin.json') \n",
      "print(robin_file.content)"
     ],
     "language": "python",
     "metadata": {},
     "outputs": [
      {
       "output_type": "stream",
       "stream": "stdout",
       "text": [
        "b'{\"totalResults\":374,\"startIndex\":1,\"itemsPerPage\":30,\"results\":[{\"id\":1177506,\"title\":\"Turdus migratorius Linnaeus 1766\",\"link\":\"http://eol.org/1177506?action=overview&controller=taxa\",\"content\":\"Turdus migratorius Linnaeus 1766; Turdus migratorius; Turdus migratorius Linnaeus 1758; Turdus migratorius Linnaeus\"},{\"id\":1051567,\"title\":\"Erithacus rubecula\",\"link\":\"http://eol.org/1051567?action=overview&controller=taxa\",\"content\":\"Erithacus rubecula (Linnaeus, 1758); Erithacus rubecula; Erithacus rubecula (L.)\"},{\"id\":1013921,\"title\":\"Candida albicans (C. P. Robin) Berkhout 1923\",\"link\":\"http://eol.org/1013921?action=overview&controller=taxa\",\"content\":\"Candida albicans (Robin) Berkhout; Candida albicans (C. P. Robin) Berkhout 1923; Candida albicans; Candida albicans (C.P. Robin) Berkhout; Candida albicans (C.P.Robin) Berkhout (1923)\"},{\"id\":248533,\"title\":\"Malassezia furfur (C. P. Robin) Baill. 1889\",\"link\":\"http://eol.org/248533?action=overview&controller=taxa\",\"content\":\"Malassezia furfur (C. P. Robin) Baill. 1889; Malassezia furfur; Malassezia furfur (C.P. Robin) Baill.; Malassezia furfur (C.P. Robin) Baillon\"},{\"id\":19050,\"title\":\"Laboulbenia\",\"link\":\"http://eol.org/19050?action=overview&controller=taxa\",\"content\":\"Laboulbenia Montagne and Robin, 1853; Eumisgomyces; Laboulbenia; Ceraiomyces; Laboulbeniella; Schizolaboulbenia; Laboulbenia Montagne et C. Robin in C. Robin, 1853; Laboulbenia Mont. & C.P. Robin 1853; Laboulbenia Mont. & C.P.Robin (1853)\"},{\"id\":1125230,\"title\":\"Calathea robin-fosteri H.A.Kenn.\",\"link\":\"http://eol.org/1125230?action=overview&controller=taxa\",\"content\":\"Calathea robin-fosteri; Calathea robin-fosteri H. Kenn.; Calathea robin-fosteri H.A.Kenn.\"},{\"id\":9064987,\"title\":\"Carpoglyphus\",\"link\":\"http://eol.org/9064987?action=overview&controller=taxa\",\"content\":\"Carpoglyphus; Carpoglyphus Robin 1869\"},{\"id\":4317264,\"title\":\"Proctophyllodes\",\"link\":\"http://eol.org/4317264?action=overview&controller=taxa\",\"content\":\"Proctophyllodes; Proctophyllodes Robin 1868\"},{\"id\":6858277,\"title\":\"Macrocarpaea robin-fosteri\",\"link\":\"http://eol.org/6858277?action=overview&controller=taxa\",\"content\":\"Macrocarpaea robin-fosteri; Macrocarpaea robin-fosteri J.R. Grant\"},{\"id\":247966,\"title\":\"Puya robin-fosteri G.S.Varad. & H.E.Luther\",\"link\":\"http://eol.org/247966?action=overview&controller=taxa\",\"content\":\"Puya robin-fosteri; Puya robin-fosteri G.S. Varad. & H. Luther; Puya robin-fosteri G.S.Varad. & H.E.Luther\"},{\"id\":1017192,\"title\":\"Trichophyton mentagrophytes\",\"link\":\"http://eol.org/1017192?action=overview&controller=taxa\",\"content\":\"Trichophyton mentagrophytes (C. P. Robin) Sabour. 1895; Trichophyton mentagrophytes; Trichophyton mentagrophytes (C.P. Robin) R. Blanchard\"},{\"id\":10482095,\"title\":\"Knemidokoptes mutans Robin & Lanquentin, 1859\",\"link\":\"http://eol.org/10482095?action=overview&controller=taxa\",\"content\":\"Knemidokoptes mutans; Knemidokoptes mutans (Robin & Lanquetin, 1859); Knemidokoptes mutans Robin & Lanquentin, 1859\"},{\"id\":6986510,\"title\":\"Rhizoglyphus echinopus (Fumouze & Robin 1868)\",\"link\":\"http://eol.org/6986510?action=overview&controller=taxa\",\"content\":\"Rhizoglyphus echinopus; Rhizoglyphus echinopus (Fumouze & Robin 1868)\"},{\"id\":189004,\"title\":\"Laboulbenia rougetii Mont. & C. P. Robin 1853\",\"link\":\"http://eol.org/189004?action=overview&controller=taxa\",\"content\":\"Laboulbenia rougetii Mont. & C. P. Robin 1853; Laboulbenia rougetii; Laboulbenia rougetii Mont. & C.P. Robin\"},{\"id\":975317,\"title\":\"Leptotrichia buccalis (Robin 1853) Trevisan 1879 (Approved Lists 1980)\",\"link\":\"http://eol.org/975317?action=overview&controller=taxa\",\"content\":\"Leptotrichia buccalis (Robin 1853) Trevisan 1879; Leptotrichia buccalis; Leptotrichia buccalis (Robin 1853) Trevisan 1879 (Approved Lists 1980); Leptotrichia buccalis Trevisan 1879\"},{\"id\":2909495,\"title\":\"Acinetopsis\",\"link\":\"http://eol.org/2909495?action=overview&controller=taxa\",\"content\":\"Acinetopsis Robin 1879; Acinetopsis\"},{\"id\":3201529,\"title\":\"Chauliacia securigera (Robin 1877)\",\"link\":\"http://eol.org/3201529?action=overview&controller=taxa\",\"content\":\"Chauliacia securigera; Chauliacia securigera (Robin 1877); Chauliacia securigera (Robin, 1968)\"},{\"id\":13362082,\"title\":\"Eustathia cultrifera (Robin, 1877)\",\"link\":\"http://eol.org/13362082?action=overview&controller=taxa\",\"content\":\"Eustathia cultrifera; Eustathia cultrifera (Robin, 1877); Eustathia cultrifera (Robin, 1968)\"},{\"id\":4317361,\"title\":\"Monojoubertia microphylla\",\"link\":\"http://eol.org/4317361?action=overview&controller=taxa\",\"content\":\"Monojoubertia microphylla; Monojoubertia microphylla (M\\\\u00e9gnin in Robin & M\\\\u00e9gnin, 1877)\"},{\"id\":13362055,\"title\":\"Hericia hericia (Robin, 1868)\",\"link\":\"http://eol.org/13362055?action=overview&controller=taxa\",\"content\":\"Hericia hericia; Hericia hericia (Robin, 1868)\"},{\"id\":3205471,\"title\":\"Pteronyssoides striatus\",\"link\":\"http://eol.org/3205471?action=overview&controller=taxa\",\"content\":\"Pteronyssoides striatus; Pteronyssoides striatus (Robin, 1877)\"},{\"id\":3205463,\"title\":\"Pteronyssus\",\"link\":\"http://eol.org/3205463?action=overview&controller=taxa\",\"content\":\"Pteronyssus; Pteronyssus Robin 1868\"},{\"id\":4316743,\"title\":\"Pterolichus\",\"link\":\"http://eol.org/4316743?action=overview&controller=taxa\",\"content\":\"Pterolichus; Pterolichus Robin 1868\"},{\"id\":4317341,\"title\":\"Pterodectes\",\"link\":\"http://eol.org/4317341?action=overview&controller=taxa\",\"content\":\"Pterodectes; Pterodectes Robin 1868\"},{\"id\":9129423,\"title\":\"Mouliniea C.P. Robin 1853\",\"link\":\"http://eol.org/9129423?action=overview&controller=taxa\",\"content\":\"Mouliniea C.P. Robin 1853; Mouliniea C.P. Robin\"},{\"id\":1005054,\"title\":\"Cyniclomyces guttulatus (C. P. Robin) Van der Walt & D. B. Scott 1971\",\"link\":\"http://eol.org/1005054?action=overview&controller=taxa\",\"content\":\"Cyniclomyces guttulatus (C. P. Robin) Van der Walt & D. B. Scott 1971; Cyniclomyces guttulatus; Cyniclomyces guttulatus (C.P. Robin) Van der Walt &#38 D.B. Scott\"},{\"id\":4317074,\"title\":\"Pseudalges Robin, 1868\",\"link\":\"http://eol.org/4317074?action=overview&controller=taxa\",\"content\":\"Pseudalges; Pseudalges Robin, 1868\"},{\"id\":13361968,\"title\":\"Montesauria bilobata (Robin, 1868)\",\"link\":\"http://eol.org/13361968?action=overview&controller=taxa\",\"content\":\"Montesauria bilobata (Robin, 1868)\"},{\"id\":13362122,\"title\":\"\",\"link\":\"http://eol.org/13362122?action=overview&controller=taxa\",\"content\":\"Pterolichus obtusus Robin 1877\"},{\"id\":998226,\"title\":\"Stilbella buquetii\",\"link\":\"http://eol.org/998226?action=overview&controller=taxa\",\"content\":\"Stilbella buquetii (Mont. & C. P. Robin) Samson & H. C. Evans 1981; Stilbella buquetii; Stilbella buquetii (Montagne &#38 C.P. Robin) Samson &#38 H.C. Evans\"}],\"first\":\"http://eol.org/api/search/Robin.json?page=1\",\"self\":\"http://eol.org/api/search/Robin.json?page=1\",\"next\":\"http://eol.org/api/search/Robin.json?page=2\",\"last\":\"http://eol.org/api/search/Robin.json?page=13\"}'\n"
       ]
      }
     ],
     "prompt_number": 22
    },
    {
     "cell_type": "code",
     "collapsed": false,
     "input": [
      "import requests\n",
      "import ujson\n",
      "import pprint\n",
      "\n",
      "owl = requests.get(\"http://eol.org/api/search/Tytonidae.json\")\n",
      "owl.text    \n",
      "# Convert it to a Python dictionary\n",
      "ujson.loads(owl.text)"
     ],
     "language": "python",
     "metadata": {},
     "outputs": [
      {
       "metadata": {},
       "output_type": "pyout",
       "prompt_number": 26,
       "text": [
        "{'first': 'http://eol.org/api/search/Tytonidae.json?page=1',\n",
        " 'itemsPerPage': 30,\n",
        " 'last': 'http://eol.org/api/search/Tytonidae.json?page=1',\n",
        " 'results': [{'content': 'Tytonidae; Tytonidae Ridgway, 1914; Tytonidae Mathews, 1912',\n",
        "   'id': 8661,\n",
        "   'link': 'http://eol.org/8661?action=overview&controller=taxa',\n",
        "   'title': 'Tytonidae'}],\n",
        " 'self': 'http://eol.org/api/search/Tytonidae.json?page=1',\n",
        " 'startIndex': 1,\n",
        " 'totalResults': 1}"
       ]
      }
     ],
     "prompt_number": 26
    },
    {
     "cell_type": "code",
     "collapsed": false,
     "input": [
      "x = np.linspace(0, 3*np.pi, 400)\n",
      "y = np.sin(x**2)\n",
      "plt.plot(x, y)\n",
      "plt.title(\"A little chirp\")\n",
      "f = gcf()  # keep the figure object for future..."
     ],
     "language": "python",
     "metadata": {},
     "outputs": [
      {
       "metadata": {},
       "output_type": "display_data",
       "png": "[encoded data removed]",
       "text": [
        "<matplotlib.figure.Figure at 0xadc9372c>"
       ]
      }
     ],
     "prompt_number": 15
    },
    {
     "cell_type": "markdown",
     "metadata": {},
     "source": [
      "### EOF, Thank you for listening!"
     ]
    },
    {
     "cell_type": "code",
     "collapsed": false,
     "input": [],
     "language": "python",
     "metadata": {},
     "outputs": []
    }
   ],
   "metadata": {}
  }
 ]
}