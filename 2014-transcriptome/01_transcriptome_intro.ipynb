{
 "metadata": {
  "name": "",
  "signature": "sha256:7bd03f3280ae0997ddf09c505caf4b7bc00a0459c497177052133a077dab347e"
 },
 "nbformat": 3,
 "nbformat_minor": 0,
 "worksheets": [
  {
   "cells": [
    {
     "cell_type": "markdown",
     "metadata": {},
     "source": [
      "<center><h5 style=\"text-align:centre; color:#800800\">The 'IRA' repo authored by [SVAKSHA](http://svaksha.com/pages/Bio) is a collection of scientific programming IPython notebooks with the source, copyright \u00a9 and licence info available at [GitHub](https://github.com/svaksh/ira/) and the two mirrors at [1] [GitLab](https://gitlab.com/svaksh/ira) and [2] [Cloudhost](https://git.cloudhost.io/svaksh/ira/).</h5></center>"
     ]
    },
    {
     "cell_type": "markdown",
     "metadata": {
      "slideshow": {
       "slide_type": "slide"
      }
     },
     "source": [
      "#<center> TRANSCRIPTOME OF FLYBASE </center> "
     ]
    },
    {
     "cell_type": "markdown",
     "metadata": {
      "slideshow": {
       "slide_type": "slide"
      }
     },
     "source": [
      "<b>Data visualization entails communicating information clearly and effectively through graphical means, and it is closely related to information graphics, information visualization, scientific visualization, and statistical graphics. </b>\n",
      "\n",
      "<b> Today, IML (Information/Data Management Lifecycle) is a crucial part of any data visualization project as it entails proper ennumeration of the steps required in the management of a large system of data. </b>\n"
     ]
    },
    {
     "cell_type": "code",
     "collapsed": false,
     "input": [
      "from BCBio import GFF\n",
      "    in_file = '/home/mom/Aleph-Omega/flybase/dana-all-no-analysis-r1.3.gff'\n",
      "    limit_info = dict(\n",
      "                           gff_id = [\"chr1\"],\n",
      "                           gff_source = [\"Coding_transcript\"])\n",
      "    in_handle = open(in_file)\n",
      "    for rec in GFF.parse(in_handle, limit_info=limit_info): \n",
      "           print rec.features[0]\n",
      "    in_handle.close()"
     ],
     "language": "python",
     "metadata": {},
     "outputs": [
      {
       "ename": "IndentationError",
       "evalue": "unexpected indent (<ipython-input-4-49ddd94e7af9>, line 2)",
       "output_type": "pyerr",
       "traceback": [
        "\u001b[1;36m  File \u001b[1;32m\"<ipython-input-4-49ddd94e7af9>\"\u001b[1;36m, line \u001b[1;32m2\u001b[0m\n\u001b[1;33m    in_file = '/home/mom/Aleph-Omega/flybase/dana-all-no-analysis-r1.3.gff'\u001b[0m\n\u001b[1;37m    ^\u001b[0m\n\u001b[1;31mIndentationError\u001b[0m\u001b[1;31m:\u001b[0m unexpected indent\n"
       ]
      }
     ],
     "prompt_number": 4
    },
    {
     "cell_type": "markdown",
     "metadata": {},
     "source": [
      "<center> <h2 style=\"color:red;\">Role of Data visualization in IML</h2></center> "
     ]
    },
    {
     "cell_type": "markdown",
     "metadata": {},
     "source": [
      "<center><h3 style=\"color:green;\">IML-Stage-6/7/8. Discover, Integrate, and Analyze</h3></center>\n",
      "\n",
      "__Make your data available using standard Libre/Free open source software (Foss) tools__\n",
      "\n",
      "To discover data:\n",
      "\n",
      "- Advertise your data with Foss tools like RSS or Atom.\n",
      "- Use standard language and terms regarding data reuse.\n",
      "- Ensure Web Accessibility as per the W3C guidelines.\n",
      "\n",
      "While integrating, \n",
      "\n",
      "- Consider the compatibility of the data you are integrating.\n",
      "- Document the data processing (new data may be created, for instance visualizations, plots, statistical outputs)\n",
      "- Document that steps used to integrate disparate datasets - a new dataset created by integrating multiple datasets, geospatial data parameters, etc..\n",
      "\n",
      "While Analyzing,\n",
      "\n",
      "- Consider data compatibility\n",
      "- Ensure datasets used are reproducible\n",
      "- Identify most appropriate software\n"
     ]
    },
    {
     "cell_type": "markdown",
     "metadata": {},
     "source": [
      "<center><h6 style=\"color:#800800\">Previous directory: [2014-transcriptome](http://nbviewer.ipython.org/github/svaksha/ira/tree/master/2014-transcriptome/) || Next NoteBook: [02_DV_EOL_lifecycle](http://nbviewer.ipython.org/github/svaksha/ira/blob/master/2014-transcriptome/02_DV_EOL_lifecycle.ipynb)</h6></center>"
     ]
    }
   ],
   "metadata": {}
  }
 ]
}