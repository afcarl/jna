{
 "cells": [
  {
   "cell_type": "markdown",
   "metadata": {},
   "source": [
    "<small><i>\"Bootstrap your FOSS journey with Julia\", a one-hour talk by [SVAKSHA](http://svaksha.com/pages/Bio) for the FSMK-Camp-2015, Reva University, Bengaluru-IN, presented on 2015July23, freely available as Jupyter notebooks stored in the [IRA](https://github.com/svaksha/ira/) repo with the source, copyright © and licence info.</small></i> "
   ]
  },
  {
   "cell_type": "markdown",
   "metadata": {
    "slideshow": {
     "slide_type": "slide"
    }
   },
   "source": [
    "#<center; style=\"color:red\">RESOURCES!</center> "
   ]
  },
  {
   "cell_type": "markdown",
   "metadata": {
    "slideshow": {
     "slide_type": "slide"
    }
   },
   "source": [
    "## <center ; style=\"color:purple;\">Women-in-Foss groups!</center> \n",
    "\n",
    "1. [GeekFeminism](http://geekfeminism.org) : A blog on Women, feminism, and geek culture!\n",
    "2. [Geek Feminism Wiki](http://geekfeminism.wikia.com/wiki/Geek_Feminism_Wiki) : A resource for and about women in geek communities with over 1,200 articles since May 2008."
   ]
  },
  {
   "cell_type": "markdown",
   "metadata": {
    "slideshow": {
     "slide_type": "slide"
    }
   },
   "source": [
    "## <center ; style=\"color:purple;\">ThankYou & Questions!</center> \n"
   ]
  },
  {
   "cell_type": "markdown",
   "metadata": {
    "slideshow": {
     "slide_type": "skip"
    }
   },
   "source": [
    "<center><h6 style=\"color:red\">PreviousNB [08_foss_licenses.ipynb](http://nbviewer.ipython.org/github/svaksha/ira/tree/master/2015-fsmk-camp/08_foss_licenses.ipynb) || CurrentNB : [09_resources.ipynb](http://nbviewer.ipython.org/github/svaksha/ira/blob/master/2015-fsmk-camp/09_resources.ipynb) || NextNB : [00_index.ipynb](http://nbviewer.ipython.org/github/svaksha/ira/blob/master/2015-fsmk-camp/00_index.ipynb)</h6></center>"
   ]
  }
 ],
 "metadata": {
  "celltoolbar": "Slideshow",
  "kernelspec": {
   "display_name": "Python 2",
   "language": "python",
   "name": "python2"
  },
  "language_info": {
   "name": "julia",
   "version": "0.4.0"
  }
 },
 "nbformat": 4,
 "nbformat_minor": 0
}
