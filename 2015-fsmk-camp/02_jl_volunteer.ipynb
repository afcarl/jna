{
 "cells": [
  {
   "cell_type": "markdown",
   "metadata": {
    "slideshow": {
     "slide_type": "skip"
    }
   },
   "source": [
    "<small><i>\"Bootstrap your FOSS journey with Julia\", a one-hour talk by [SVAKSHA](http://svaksha.com/pages/Bio) for the FSMK-Camp-2015, Reva University, Bengaluru-IN, presented on 2015July23, freely available as Jupyter notebooks stored in the [IRA](https://github.com/svaksha/ira/) repo with the source, copyright © and licence info.</small></i> "
   ]
  },
  {
   "cell_type": "markdown",
   "metadata": {
    "slideshow": {
     "slide_type": "slide"
    }
   },
   "source": [
    "#<center ; style=\"color:red;\">Volunteer</center> "
   ]
  },
  {
   "cell_type": "markdown",
   "metadata": {
    "slideshow": {
     "slide_type": "slide"
    }
   },
   "source": [
    "## Preliminaries"
   ]
  },
  {
   "cell_type": "markdown",
   "metadata": {
    "slideshow": {
     "slide_type": "subslide"
    }
   },
   "source": [
    "### Install Julia\n",
    "\n",
    "+ [Download](http://julialang.org/downloads/) and install Julia locally.\n",
    "+ First, install all the dependencies."
   ]
  },
  {
   "cell_type": "markdown",
   "metadata": {
    "slideshow": {
     "slide_type": "subslide"
    }
   },
   "source": [
    "#### Checking your installation\n",
    "\n",
    "+ Check if Julia (and its package dependencies) are installed on your system:\n",
    "\n",
    "(in the REPL, type `julia`)"
   ]
  },
  {
   "cell_type": "code",
   "execution_count": null,
   "metadata": {
    "collapsed": true,
    "slideshow": {
     "slide_type": "subslide"
    }
   },
   "outputs": [],
   "source": [
    "$ julia\n",
    "               _\n",
    "   _       _ _(_)_     |  A fresh approach to technical computing\n",
    "  (_)     | (_) (_)    |  Documentation: http://docs.julialang.org\n",
    "   _ _   _| |_  __ _   |  Type \"help()\" for help.\n",
    "  | | | | | | |/ _` |  |\n",
    "  | | |_| | | | (_| |  |  Version 0.4.0-dev+6095 (2015-07-20 14:38 UTC)\n",
    " _/ |\\__'_|_|_|\\__'_|  |  Commit c75f4d4* (2 days old master)\n",
    "|__/                   |  x86_64-linux-gnu\n"
   ]
  },
  {
   "cell_type": "markdown",
   "metadata": {},
   "source": [
    "### Version\n",
    "\n",
    "+ Which Julia version should you install and use? \n",
    "    + 32-bit or 64-bit? \n",
    "    + Stable or Unstable?\n",
    "    \n",
    "+ Different ways to run and use Julia : \n",
    "    + Install the current `stable` release - v0.3.10, locally. \n",
    "    + Julia + Juno IDE bundles with integrated code editing and evaluation.\n",
    "    + Point your browser to [JuliaBox](https://www.juliabox.org), create a login to start computing. \n",
    "        - PROs: No installation is required.\n",
    "        - CONs: Temporary storage.\n",
    "    + Nightly builds == Unstable == current git `master`.\n",
    "        - Install the bleeding-edge binaries if you wish to contribute to the Julia core development.\n",
    "        - Rapid devel pace.\n",
    "        - Expect frequent breakages.\n",
    "\n",
    "+ To contribute to the Julia language, read the [how-to contribute](https://github.com/JuliaLang/julia/blob/master/CONTRIBUTING.md) page for additional information."
   ]
  },
  {
   "cell_type": "markdown",
   "metadata": {},
   "source": [
    "### Contributing to Julia core development\n",
    "the sections on [continuous integration](https://github.com/svaksha/Julia.jl/blob/master/Build-Automation.md#continuous-integration) and [git hooks](https://github.com/svaksha/Julia.jl/blob/master/Build-Automation.md#git-hooks) and the links to (open) BUGS on Github:\n",
    "+ [Documentation bugs](https://github.com/JuliaLang/julia/issues?q=is%3Aopen+is%3Aissue+label%3Adoc).\n",
    "+ The [up for grabs](https://github.com/JuliaLang/julia/labels/up%20for%20grabs) label on Github. _PS: Not all the bugs tagged thus are meant for newbies to programming_.\n",
    "+ [Bug #9493](https://github.com/JuliaLang/julia/issues/9493) for more comprehensive test coverage. Check out the [coveralls](https://coveralls.io/r/timholy/julia) page for a quickview of ToDo tests.\n",
    "\n",
    "\n",
    "\n",
    "__For development news, see the following links :__\n",
    "+ [NEWS](https://github.com/JuliaLang/julia/blob/master/NEWS.md) :: Track the Julia release notes, changes, new language features, library improvements,...\n",
    "+ [2014 GSoC project ideas page](http://julialang.org/gsoc/2014/). [Add the project ideas with a brief description, then make pull request](https://github.com/JuliaLang/julialang.github.com/blob/master/gsoc/2014/index.md). \n",
    "+ [ThisWeekInJulia](http://thisweekinjulia.github.io) :: A blog detailing major updates and changes to the Julia language.\n"
   ]
  }
 ],
 "metadata": {
  "celltoolbar": "Slideshow",
  "kernelspec": {
   "display_name": "Python 2",
   "language": "python",
   "name": "python2"
  },
  "language_info": {
   "name": "julia",
   "version": "0.4.0"
  }
 },
 "nbformat": 4,
 "nbformat_minor": 0
}
