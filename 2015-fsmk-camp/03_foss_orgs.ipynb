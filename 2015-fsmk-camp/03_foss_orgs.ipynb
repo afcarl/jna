{
 "cells": [
  {
   "cell_type": "markdown",
   "metadata": {},
   "source": [
    "<small><i>\"Bootstrap your FOSS journey with Julia\", a one-hour talk by [SVAKSHA](http://svaksha.com/pages/Bio) for the FSMK-Camp-2015, Reva University, Bengaluru-IN, presented on 2015July23, freely available as Jupyter notebooks stored in the [IRA](https://github.com/svaksha/ira/) repo with the source, copyright © and licence info.</small></i> "
   ]
  },
  {
   "cell_type": "markdown",
   "metadata": {
    "slideshow": {
     "slide_type": "slide"
    }
   },
   "source": [
    "#<center; style=\"color:red\">FOSS ORGANIZATIONS</center> "
   ]
  },
  {
   "cell_type": "markdown",
   "metadata": {
    "slideshow": {
     "slide_type": "slide"
    }
   },
   "source": [
    "## <center ; style=\"color:purple;\">Beyond Julia!?</center> \n",
    "\n",
    "+ Yes, other Foss communities exist !\n",
    "+ [Free advice](https://github.com/svaksha/diversity-index/blob/master/di-internships.md#advice) on Do's and Dont's.\n",
    "+ [List of Foss internships](https://github.com/svaksha/diversity-index/blob/master/di-internships.md#foss)\n",
    "\n",
    "{/self-plug}"
   ]
  },
  {
   "cell_type": "markdown",
   "metadata": {
    "slideshow": {
     "slide_type": "slide"
    }
   },
   "source": [
    "##<center> <h3 style=\"color:purple;\">The Deep Dive!</h3></center> \n",
    "\n",
    "+ Before the deep dive, [learn how to find projects](http://svaksha.com/post/2012/Contributing-to-Libre-software-projects). \n",
    "+ Navigate the Foss communities to determine which projects are best for your growth.\n",
    "+ Learn to contribute by engaging with open source maintainers.\n",
    "   + One or more IRC channels, for chatting.\n",
    "   + A developer-oriented email list.\n",
    "   + A bug tracker\n",
    "   + Special CI, Testing tools.\n",
    "+ Self-[SWOT](https://en.wikipedia.org/wiki/SWOT_analysis) (Strengths, Weaknesses, Opportunities and Threats) analysis before jumping onto the Foss bandwagon.\n",
    "    - Web development, Enterprise.\n",
    "    - Lack self-motivation, No Managers.\n",
    "    - Writing a lib leads to a Job.\n",
    "    - School work, no mentors, no Time.\n",
    "    - A SWOT matrix from Wikipedia<sup>{Credits:01}</sup>\n",
    "    <img src=\"data/SWOT.png\"> "
   ]
  },
  {
   "cell_type": "markdown",
   "metadata": {
    "slideshow": {
     "slide_type": "slide"
    }
   },
   "source": [
    "### SoC -> GSoC, ESA\n",
    "\n",
    "+ Applied to GSoC, didnt make it!\n",
    "    - Non-students\n",
    "    - Wade a little deeper and try solving the unclaimed [GSOC](http://www.google-melange.com/gsoc/) ideas.\n",
    "+ The ESA (European Space Agency) program is only open to EU students. \n",
    "     + Pick the unclaimed projects and work outside of the SoC span.\n",
    "+ Figure out the development stack vis-a-vis your skillset and interests.\n",
    "+ Understand the problem and R/W the proposal as you would if you were an applicant.\n",
    "+ Projects are always interested in contributors and would welcome your efforts 24x7x365. \n",
    "+ Time commitment - All SoC tasks require a longer commitment of 8 hrs per day for 12-15 weeks."
   ]
  },
  {
   "cell_type": "markdown",
   "metadata": {
    "slideshow": {
     "slide_type": "slide"
    }
   },
   "source": [
    "#### Women Only SoC Programs\n",
    "\n",
    "1. [GNOME outreach](https://wiki.gnome.org/Outreach) program for women.\n",
    "    - Run since 2005.\n",
    "    - Managed by the Gnome Foundation.\n",
    "\n",
    "2. Rails Girls Summer of Code (RSoC)\n",
    "    - A full-time 3-month scholarship to women.\n",
    "    - Work on any Ruby Foss project."
   ]
  },
  {
   "cell_type": "markdown",
   "metadata": {
    "slideshow": {
     "slide_type": "slide"
    }
   },
   "source": [
    "## <center ; style=\"color:purple;\">Licenses</center> \n",
    "\n",
    "### Copyrights\n",
    "+ [Copyrights](https://en.wikibooks.org/wiki/FOSS_Licensing/Copyright_Basics) are assigned to an author of any creative, intellectual, artistic and literary works.\n",
    "\n",
    "### Software Licenses \n",
    "\n",
    "+ Foss is tightly knit with various types of [Licenses](https://en.wikibooks.org/wiki/FOSS_Licensing)\n",
    "+ Learn about the different Foss licenses and [how to choose them](http://choosealicense.com/).\n",
    "+ `Free software` (where “free” means “libre” and not “gratis”) or `Free and Open Source Software` (FOSS/ FLOSS) have certain philosophical and ideological associations.\n",
    "+ Grok the differences between “__permissive licences__” (“BSD-style licences”) VS. “__copyleft__” (GPL, AGPL, LGPL, and many similar licenses).\n",
    "+ Some FOSS licenses can be converted into a different licence by any third party using them.\n",
    "\n",
    "### Documentation licenses\n",
    "\n",
    "###### CC License\n",
    "+ A public copyright license intended to allow free sharing of creative works.\n",
    "+ Intellectual work, artistic, and literary works are [CC-licensed](http://creativecommons.org/choose/).\n",
    "+ Various types of CC licenses with some licenses restricting commercial use, including derivatives.\n",
    "\n",
    "###### [GFDL](https://en.wikipedia.org/wiki/GNU_Free_Documentation_License)\n",
    "+ The GNU Free Documentation License (GFDL) is a copyleft license for free documentation\n",
    "+ Designed by the Free Software Foundation (FSF) for the GNU Project.\n",
    "+ Allows Commercial use.\n",
    " \n"
   ]
  },
  {
   "cell_type": "markdown",
   "metadata": {
    "slideshow": {
     "slide_type": "skip"
    }
   },
   "source": [
    "<i><small><center; style=\"color:red\">PreviousNB [02_jl_volunteer.ipynb](http://nbviewer.ipython.org/github/svaksha/ira/tree/master/2015-fsmk-camp/02_jl_volunteer.ipynb) || CurrentNB : [03_foss_orgs.ipynb](http://nbviewer.ipython.org/github/svaksha/ira/blob/master/2015-fsmk-camp/03_foss_orgs.ipynb) || NextNB : [04_resources.ipynb](http://nbviewer.ipython.org/github/svaksha/ira/blob/master/2015-fsmk-camp/04_resources.ipynb)</center></small></i>"
   ]
  }
 ],
 "metadata": {
  "celltoolbar": "Slideshow",
  "kernelspec": {
   "display_name": "Python 2",
   "language": "python",
   "name": "python2"
  },
  "language_info": {
   "name": "julia",
   "version": "0.4.0"
  }
 },
 "nbformat": 4,
 "nbformat_minor": 0
}
