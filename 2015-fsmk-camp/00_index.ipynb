{
 "cells": [
  {
   "cell_type": "markdown",
   "metadata": {
    "slideshow": {
     "slide_type": "skip"
    }
   },
   "source": [
    "<small><i>\"Bootstrap your FOSS journey with Julia\", a one-hour talk by [SVAKSHA](http://svaksha.com/pages/Bio) for the FSMK-Camp-2015, Reva University, Bengaluru-IN, presented on 2015July23, freely available as Jupyter notebooks stored in the [IRA](https://github.com/svaksha/ira/) repo with the source, copyright © and licence info.</small></i> "
   ]
  },
  {
   "cell_type": "markdown",
   "metadata": {
    "slideshow": {
     "slide_type": "slide"
    }
   },
   "source": [
    "#FSMK-Camp-2015 : Bootstrap your FOSS journey with Julia!\n",
    "\n",
    "- __[SVAKSHA](http://svaksha.com/pages/Bio)__\n",
    "- __Presented at FSMK-Camp-2015, Reva University, Bengaluru, IN.__\n",
    "- __2015July23__"
   ]
  },
  {
   "cell_type": "markdown",
   "metadata": {
    "slideshow": {
     "slide_type": "slide"
    }
   },
   "source": [
    "##<center>INDEX</center>\n",
    "\n",
    "01. [Introduction to Julia](01_jl_introduction.ipynb)\n",
    "    + YAPL \n",
    "    + Julia Features\n",
    "    + Community\n",
    "    + Community Events\n",
    "02. [Volunteer](02_jl_volunteer.ipynb)\n",
    "    + Preliminaries\n",
    "      - Install Julia\n",
    "        * Checking your installation\n",
    "      - Version\n",
    "    + Contributing :\n",
    "        * Bug Triage\n",
    "        * Tests\n",
    "        * Libraries\n",
    "        * Documentation\n",
    "    + Utilities :\n",
    "      - Git DVCS\n",
    "      - IDEs\n",
    "      - CLI tools\n",
    "      - Packaging & OS\n",
    "03. [Foss Organizations](03_foss_orgs.ipynb)\n",
    "    + Beyond Julia\n",
    "    + The Deep Dive\n",
    "        - SoC -> GSoC, ESA\n",
    "        - Women Only SoC Programs\n",
    "    + Licenses\n",
    "        - Copyrights\n",
    "        - Software Licenses\n",
    "        - Documentation licenses\n",
    "04. [Resources](04_resources.ipynb)\n",
    "    + OS.\n",
    "    + Interesting Papers on Sexism and Misogyny.\n",
    "    + ThankYou & Questions!"
   ]
  },
  {
   "cell_type": "markdown",
   "metadata": {
    "slideshow": {
     "slide_type": "slide"
    }
   },
   "source": [
    "##<center> Errata </center>\n",
    "\n",
    "This is a 1-hour talk introducing the students the [Julia](http://julia-lang.org) language, a new scientific computing language that welcomes contributions in the form of writing new libraries/ tests/ documentation/ etc.. \n",
    "\n",
    "A brief overview of various [Foss](https://en.wikipedia.org/wiki/Free_and_open-source_software) organizations, including the important role played by women in Foss will be provided. Time permitting, I will try to provide some insight to the tools & utilities used to contribute, Foss licenses, etc.. \n",
    "\n",
    "#### URL\n",
    "\n",
    "This talk is released under a Foss license (please see the License section) and freely available for download at the [IRA](https://github.com/svaksha/ira/) repo.\n",
    "\n",
    "If you wish to run/view these notebooks, install these packages (and their dependencies) locally:\n",
    "- Julia\n",
    "- [Jupyter](https://en.wikipedia.org/wiki/IPython#Project_Jupyter) notebook\n",
    "\n",
    "The [Anaconda](http://continuum.io/downloads) installer, which works on Linux, OSX, and Windows PC will also run Jupyter notebooks.\n",
    "\n",
    "#### LICENSE\n",
    "\n",
    "+ COPYRIGHT © 2013-Now [SVAKSHA](http://svaksha.com/pages/Bio) All Rights Reserved. \n",
    "+ All the __software / code samples__ used in the [IRA](https://github.com/svaksha/ira/) repo for each talk/presentation/slide/workshop are released and licensed under the [AGPLv3 License](http://www.gnu.org/licenses/agpl.html) and the __presentation materials and notes__ are released and licensed under the Creative Commons Attribution-NonCommercial-ShareAlike 4.0 International License - (CC BY-NC-SA 4.0) as detailed in the [LICENSE.md](https://github.com/svaksha/ira/blob/master/LICENSE.md) file. \n",
    "+ ALL copies, forks and redistributions of the [IRA](https://github.com/svaksha/ira/) repo must retain the Copyright notice, the Licence file (AGPLv3 for code snippets and CC-BY-NC-SA-4.0 for the talk/ presentation materials) along with this permission notice in substantial portions of the repository.\n",
    "\n"
   ]
  }
 ],
 "metadata": {
  "celltoolbar": "Slideshow",
  "kernelspec": {
   "display_name": "Python 2",
   "language": "python",
   "name": "python2"
  },
  "language_info": {
   "name": "julia",
   "version": "0.4.0"
  }
 },
 "nbformat": 4,
 "nbformat_minor": 0
}
