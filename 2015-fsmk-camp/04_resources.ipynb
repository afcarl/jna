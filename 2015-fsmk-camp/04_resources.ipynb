{
 "cells": [
  {
   "cell_type": "markdown",
   "metadata": {},
   "source": [
    "<small><i>\"Bootstrap your FOSS journey with Julia\", a one-hour talk by [SVAKSHA](http://svaksha.com/pages/Bio) for the FSMK-Camp-2015, Reva University, Bengaluru-IN, presented on 2015July23, freely available as Jupyter notebooks stored in the [IRA](https://github.com/svaksha/ira/) repo with the source, copyright © and licence info.</small></i> "
   ]
  },
  {
   "cell_type": "markdown",
   "metadata": {
    "slideshow": {
     "slide_type": "slide"
    }
   },
   "source": [
    "#<center; style=\"color:red\">RESOURCES!</center> "
   ]
  },
  {
   "cell_type": "markdown",
   "metadata": {
    "slideshow": {
     "slide_type": "slide"
    }
   },
   "source": [
    "## <center ; style=\"color:purple;\">Women-in-Foss groups!</center> \n",
    "\n",
    "+ [GeekFeminism](http://geekfeminism.org) : A blog on Women, feminism, and geek culture!\n",
    "+ [Geek Feminism Wiki](http://geekfeminism.wikia.com/wiki/Geek_Feminism_Wiki) : A resource for and about women in geek communities with over 1,200 articles since May 2008."
   ]
  },
  {
   "cell_type": "markdown",
   "metadata": {
    "slideshow": {
     "slide_type": "slide"
    }
   },
   "source": [
    "## <center ; style=\"color:purple;\">Interesting Papers on Sexism and Misogyny!</center> \n",
    "+ [Why women talk less](https://debuk.wordpress.com/2015/05/23/why-women-talk-less/) by Debuk.\n",
    "+ [Insights into Sexism: Male Status and Performance Moderates Female-Directed Hostile and Amicable Behaviour](http://journals.plos.org/plosone/article?id=10.1371/journal.pone.0131613), Michael M. Kasumovic, Jeffrey H. Kuznekoff, PLOS, 2015/Jul/15. DOI: 10.1371/journal.pone.0131613.\n"
   ]
  },
  {
   "cell_type": "markdown",
   "metadata": {
    "slideshow": {
     "slide_type": "slide"
    }
   },
   "source": [
    "## <center ; style=\"color:purple;\">ThankYou & Questions!</center> \n"
   ]
  },
  {
   "cell_type": "markdown",
   "metadata": {
    "slideshow": {
     "slide_type": "skip"
    }
   },
   "source": [
    "<i><small><center; style=\"color:red\">PreviousNB [03_foss_orgs.ipynb](http://nbviewer.ipython.org/github/svaksha/ira/tree/master/2015-fsmk-camp/03_foss_orgs.ipynb) || CurrentNB : [04_resources.ipynb](http://nbviewer.ipython.org/github/svaksha/ira/blob/master/2015-fsmk-camp/04_resources.ipynb) || NextNB : [00_index.ipynb](http://nbviewer.ipython.org/github/svaksha/ira/blob/master/2015-fsmk-camp/00_index.ipynb)</center></small></i>"
   ]
  }
 ],
 "metadata": {
  "celltoolbar": "Slideshow",
  "kernelspec": {
   "display_name": "Python 2",
   "language": "python",
   "name": "python2"
  },
  "language_info": {
   "name": "julia",
   "version": "0.4.0"
  }
 },
 "nbformat": 4,
 "nbformat_minor": 0
}
