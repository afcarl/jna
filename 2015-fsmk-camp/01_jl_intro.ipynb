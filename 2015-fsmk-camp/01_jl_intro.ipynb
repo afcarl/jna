{
 "cells": [
  {
   "cell_type": "markdown",
   "metadata": {},
   "source": [
    "<small><i>\"Bootstrap your FOSS journey with Julia\", a one-hour talk by [SVAKSHA](http://svaksha.com/pages/Bio) for the FSMK-Camp-2015, Reva University, Bengaluru-IN, presented on 2015July23, freely available as Jupyter notebooks stored in the [IRA](https://github.com/svaksha/ira/) repo with the source, copyright © and licence info.</small></i> "
   ]
  },
  {
   "cell_type": "markdown",
   "metadata": {
    "slideshow": {
     "slide_type": "slide"
    }
   },
   "source": [
    "#<center; style=\"color:red\">Introduction to Julia!</center> "
   ]
  },
  {
   "cell_type": "markdown",
   "metadata": {
    "slideshow": {
     "slide_type": "slide"
    }
   },
   "source": [
    "## <center ; style=\"color:purple;\">YAPL? </center> \n",
    "\n",
    "+ [Julia](http://julialang.org/) is a high-level, high-performance dynamic programming language.\n",
    "+ Specially created for scientific programming and technical computing needs.\n",
    "+ Easy syntax - as simple as Python!\n",
    "+ Uses the LLVM-based JIT compiler infrastructure.\n",
    "+ Numerical accuracy with an extensive mathematical function library - via Base and external packages. \n",
    "+ The Base library (written in Julia) integrates C & Fortran Foss libraries for linear algebra, random number generation, signal processing, and string processing.\n",
    "+ IJulia - the browser-based graphical notebook interface to Julia from IPython/Jupyter.\n",
    "+ API's to call other [programming language](https://github.com/svaksha/Julia.jl/blob/master/API.md#languages) functions easily.\n",
    "+ Julia is a project under the [NumFocus](http://numfocus.org/projects/index.html) foundation.\n",
    "+ MIT licensed, as is the Foss spirit!"
   ]
  },
  {
   "cell_type": "markdown",
   "metadata": {
    "slideshow": {
     "slide_type": "slide"
    }
   },
   "source": [
    "##<center; style=\"color:purple;\">Cool Features</center> \n",
    "\n",
    "1. Multiple Dispatch.\n",
    "    + Define functions and overload them for various types\n",
    "    + Argument types can be user-defined.\n",
    "    \n",
    "2. Not object oriented. \n",
    "    + Methods wont always belong to one particular object and there are no private methods. \n",
    "    + All methods are public by default, so object access needs to be a part of the core application design. \n",
    "\n",
    "3. Built-in package manager.\n",
    "    + `METADATA` makes it easy to install packages via the REPL.\n",
    "    + Uses `git` as the installer.\n",
    "    + The package manager will soon be renamed as `CuratedPackages`.\n",
    "\n",
    "4. Extensive scientific libraries for [Astronomy](https://github.com/svaksha/Julia.jl/blob/master/Astronomy.md), [Mathematics](https://github.com/svaksha/Julia.jl/blob/master/Mathematics.md), [Statistics](https://github.com/svaksha/Julia.jl/blob/master/Statistics.md), [Physics](https://github.com/svaksha/Julia.jl/blob/master/Physics.md), [Chemistry](https://github.com/svaksha/Julia.jl/blob/master/Chemistry.md), [Biology](https://github.com/svaksha/Julia.jl/blob/master/Biology.md), [AI](https://github.com/svaksha/Julia.jl/blob/master/AI.md), [Geography](https://github.com/svaksha/Julia.jl/blob/master/Earth-Science.md) and lots more at [Julia.jl](https://svaksha.github.io/Julia.jl/)!\n",
    "    + Extensive scientific libraries with many external packages that can be installed using the built-in package manager.\n",
    "\n",
    "5. API's to call other [programming language](https://github.com/svaksha/Julia.jl/blob/master/API.md#languages) functions.\n",
    "    + Easily call Python code, say, for plotting data, etc.. using the PyCall package.\n",
    "    + Call C functions directly: no wrappers or special API is needed. \n",
    "        - Cxx.jl integrated.\n",
    "\n",
    "6. A dynamic type system: types for documentation, optimization, and dispatch.\n",
    "\n",
    "7. The JIT compiler boosts the performance, approaching that of statically-compiled languages like C\n",
    "\n",
    "8. Metaprogramming facilities.\n",
    "\n",
    "9. A powerful REPL shell.\n",
    "\n",
    "10. Designed for distributed and [parallel computing](http://docs.julialang.org/en/release-0.3/manual/parallel-computing/).\n",
    "\n",
    "11. Unicode support.\n",
    "    + Not limited to UTF-8.\n",
    "    + Can use math symbols directly as [unicode input](http://docs.julialang.org/en/release-0.3/manual/unicode-input/)\n",
    "    + Example: allows the greek chars (α, β, γ, ...) to be input. \n",
    "    "
   ]
  },
  {
   "cell_type": "markdown",
   "metadata": {
    "slideshow": {
     "slide_type": "slide"
    }
   },
   "source": [
    "##<center> <h3 style=\"color:purple;\">Community</h3></center> \n",
    "\n",
    "The Julia [community](http://julialang.org/community/) is growing everyday!\n",
    "\n",
    "+ IRC :: [#julia](http://webchat.freenode.net/?channels=julia) channel on irc.freenode.net for live chats\n",
    "\n",
    "+ Mailing lists :: \n",
    "   + [julia-users](https://groups.google.com/forum/?fromgroups=#!forum/julia-users) : Community support for programming discussions.\n",
    "   + [julia-dev](https://groups.google.com/forum/?fromgroups=#!forum/julia-dev) : For core development discussions\n",
    "   + [julia-jobs](https://groups.google.com/forum/#!forum/julia-jobs) : Post Julia jobs here.\n",
    "\n",
    "+ Smaller Special Interest Groups (SIGs) have their own mailing lists and github orgs.\n",
    "\n",
    "\n",
    "### Community Standard\n",
    "\n",
    "+ Has implemented a [Code of Conduct (CoC)](http://julialang.org/community/standards/) standard that is upheld across all its user spaces : Mailing lists, Bug tracker, IRC, Forums, all online communication, etc..\n"
   ]
  },
  {
   "cell_type": "markdown",
   "metadata": {
    "slideshow": {
     "slide_type": "slide"
    }
   },
   "source": [
    "## <center ; style=\"color:purple;\">Community Events</center>\n",
    "\n",
    "\n",
    "+ [Juliacon](http://juliacon.org/) is the official annual event held in USA.\n",
    "+ Various [JUG](https://github.com/svaksha/Julia.jl/blob/master/Community.md#julia-user-groups)s, hold frequent local meetups.\n",
    "\n",
    "#### Social sites\n",
    "\n",
    "+ [Julia page at Wikipedia](https://en.wikipedia.org/wiki/Julia_%28programming_language%29).\n",
    "+ [Reddit](http://www.reddit.com/r/Julia/)\n",
    "+ [Stackoverflow](http://stackoverflow.com/questions/tagged/julia-lang)\n",
    "+ [Julialang news on Twitter](https://twitter.com/julialang_news)"
   ]
  },
  {
   "cell_type": "markdown",
   "metadata": {
    "slideshow": {
     "slide_type": "skip"
    }
   },
   "source": [
    "<center><h6 style=\"color:red\">PreviousNB [Index : 00_index.ipynb](http://nbviewer.ipython.org/github/svaksha/ira/tree/master/2015-fsmk-camp/00_index.ipynb) || CurrentNB : [01_jl_intro.ipynb](http://nbviewer.ipython.org/github/svaksha/ira/blob/master/2015-fsmk-camp/01_jl_intro.ipynb) || NextNB : [02_jl_volunteer.ipynb](http://nbviewer.ipython.org/github/svaksha/ira/blob/master/2015-fsmk-camp/02_jl_volunteer.ipynb)</h6></center>"
   ]
  }
 ],
 "metadata": {
  "celltoolbar": "Slideshow",
  "kernelspec": {
   "display_name": "Python 2",
   "language": "python",
   "name": "python2"
  },
  "language_info": {
   "name": "julia",
   "version": "0.4.0"
  }
 },
 "nbformat": 4,
 "nbformat_minor": 0
}
