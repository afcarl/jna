{
 "metadata": {
  "name": "",
  "signature": "sha256:216e6175cfbaa4b002d0bc8cd520e962d9e27137eade89a0b3bb1de4460e8431"
 },
 "nbformat": 3,
 "nbformat_minor": 0,
 "worksheets": [
  {
   "cells": [
    {
     "cell_type": "markdown",
     "metadata": {},
     "source": [
      "<h5 style=\"text-align:centre; color:#800800\">The 'IRA' repo authored by [SVAKSHA](http://svaksha.com/pages/Bio) is a collection of scientific programming Jupyter/IPython notebooks with the source, copyright \u00a9 and licence info available at [GitHub](https://github.com/svaksh/jna/) and the two mirrors at [1] [GitLab](https://gitlab.com/svaksh/jna) and [2] [Devlabs](https://gitlab.devlabs.linuxassist.net/svaksh/jna).</h5>"
     ]
    },
    {
     "cell_type": "markdown",
     "metadata": {
      "slideshow": {
       "slide_type": "slide"
      }
     },
     "source": [
      "#<center> \"Information/data Management Lifecycle (IML)\" in Data Visualization.</center> "
     ]
    },
    {
     "cell_type": "markdown",
     "metadata": {
      "slideshow": {
       "slide_type": "slide"
      }
     },
     "source": [
      "<b>Data visualization entails communicating information clearly and effectively through graphical means, and it is closely related to information graphics, information visualization, scientific visualization, and statistical graphics. </b>\n",
      "\n",
      "<b> Today, IML (Information/Data Management Lifecycle) is a crucial part of any data visualization project as it entails proper ennumeration of the steps required in the management of a large system of data. </b>\n"
     ]
    },
    {
     "cell_type": "markdown",
     "metadata": {
      "slideshow": {
       "slide_type": "slide"
      }
     },
     "source": [
      "Objectives\n",
      "----------\n",
      "- Develop a data management plan at the outset of the project, even before coding begins!\n",
      "- Producing self-describing datasets is another goal of the data management lifecycle.\n",
      "- Improve the delivery of scientific and information visualization to the stakeholders: researchers, scientists, teachers, software development teams, funding agencies, including other Laboratories and customer engagement agencies.\n",
      "- Communicate information and encourage good coding and data-management practices."
     ]
    },
    {
     "cell_type": "markdown",
     "metadata": {},
     "source": [
      "<center> <h2 style=\"color:red;\">Role of Data visualization in IML</h2></center> "
     ]
    },
    {
     "cell_type": "markdown",
     "metadata": {
      "slideshow": {
       "slide_type": "slide"
      }
     },
     "source": [
      "Visualization is a very powerful method of sharing information with all stakeholders. For example, this __IPython Notebook__ that you are viewing, is an __easy computing & demo platform for scientific programming__. \n",
      "\n",
      "### Pros:\n",
      "  + Interactive with easy visualization tools\n",
      "  + Allows sharing text data and links.\n",
      "  + Extensive scientific libraries\n",
      "  + Easily embed pictures and videos\n",
      "  + Embed snippets of Python code for plotting data, etc.."
     ]
    },
    {
     "cell_type": "markdown",
     "metadata": {
      "slideshow": {
       "slide_type": "slide"
      }
     },
     "source": [
      "## <center> An overview of the Data Life Cycle </center> \n",
      "\n",
      "The data life cycle has eight components:\n",
      "\n",
      "1. Plan\n",
      ": description of the data that will be compiled, and how the data will be managed and made accessible throughout its lifetime\n",
      "2. Collect\n",
      ": observations are made either by hand or with sensors or other instruments and the data are placed a into digital form\n",
      "3. Assure\n",
      ": the quality of the data are assured through checks and inspections\n",
      "4. Describe\n",
      ": data are accurately and thoroughly described using the appropriate\n",
      "metadata standards\n",
      "5. Preserve\n",
      ": data are submitted to an appropriate long-term archive (i.e. data center)\n",
      "6. Discover\n",
      ": potentially useful data are located and obtained, along with the relevant information about the data (metadata)\n",
      "7. Integrate\n",
      ": data from disparate sources are combined to form one homogeneous set of data that can be readily analyzed\n",
      "8. Analyze\n",
      ": data are analyzed\n"
     ]
    },
    {
     "cell_type": "markdown",
     "metadata": {
      "slideshow": {
       "slide_type": "slide"
      }
     },
     "source": [
      "<center><h3 style=\"color:green;\">IML-Stage-1. Planning</h3></center>\n",
      "\n",
      "1. Collecting data (Defining the data. and how the biodiversity data will be collected and analyzed)\n",
      "2. Decide on a repository and cyberinfrastructure \n",
      "3. Organizing the data (set standards for data organization - file formats, units, parameter names)\n",
      "4. DVCS and how data will be backed up, how often,...\n",
      "5. Describing the data: How will we produce a metadata record? What metadata standard will be used? ..\n",
      "6. Sharing and Preserving data\n",
      "7. Budgets"
     ]
    },
    {
     "cell_type": "markdown",
     "metadata": {
      "slideshow": {
       "slide_type": "slide"
      }
     },
     "source": [
      "<center><h3 style=\"color:green;\">IML-Stage-2. Collecting Data</h3></center>\n",
      "\n",
      "Data collection must follow the \"Plan\" and collect relevant contextual data. If there are multiple data collectors, synchrony and data validy must be ensured by taking some precautions: \n",
      "\n",
      "- Describe the contents of your data files\n",
      "- Define each data parameter, including its format, the units, codes, etc.. \n",
      "- Data descriptions (metadata) should accompany the data files as a \u201creadme.txt\u201d file.\n",
      "\n",
      "Here is a nice guide on how to collect and [share raw data with statisticians](https://github.com/svaksha/datasharing/blob/master/README.md)."
     ]
    },
    {
     "cell_type": "markdown",
     "metadata": {},
     "source": [
      "<center><h3 style=\"color:green;\">IML-Stage-3. Data Quality Assurance</h3></center>\n",
      "\n",
      "The third, and important, stage of the IM lifecycle is __validating data__, where we perform basic quality assurance/control steps on the data during data collection, entry, and analysis. \n",
      "\n",
      "As mentioned earlier, the [raw data is in the right format](https://github.com/svaksha/datasharing/blob/master/README.md), if you:\n",
      "\n",
      "    Ran no software on the data\n",
      "    Did not manipulate any of the numbers in the data\n",
      "    Did not remove any data from the data set\n",
      "    Did not summarize the data in any way\n",
      "    \n",
      "Additionally, \n",
      "\n",
      "- check the format of the data for consistency across the data set. \n",
      "- perform statistical and graphical summaries (e.g. max/min, average, range) to check for questionable or impossible values.\n",
      "- Use either metadata or code/data documentation to communicate data quality."
     ]
    },
    {
     "cell_type": "markdown",
     "metadata": {},
     "source": [
      "<center><h3 style=\"color:green;\">IML-Stage-4. Describe - Metadata Documentation</h3></center>\n",
      "\n",
      "Comprehensively document metadata by :\n",
      "\n",
      "- Describing the digital context (ensuring the data file contains a full description of the context of the data collected)\n",
      "- Parameters information (Taxonomic details, measurement units, QA, formats,..)\n",
      "- Name of the data set and the name(s) of the data file(s) in the data set \n",
      "- Describe the personnel and stakeholders, and the date the dataset was last modified\n",
      "\n",
      "By ensuring quality of the Metadata, we ensure that it can be easily discovered, understood and effectively used. "
     ]
    },
    {
     "cell_type": "markdown",
     "metadata": {},
     "source": [
      "<center><h3 style=\"color:green;\">IML-Stage-5. Preserve : Data Storage</h3></center>\n",
      "\n",
      "- Identify data with long-term value - consider the size of your files to be stored, depending on the most difficult to reproduce data\n",
      "- Store data using appropriate precision (e.g. significant digits, floating point precision, etc..)\n",
      "- Use standard terminology and ontologies that enable others to find and use your data.\n",
      "- Legalese : Follow institutional policies on privacy, confidentiality and SLA's.\n",
      "- Attribution and provenance to all stakeholders, other researchers and IP data."
     ]
    },
    {
     "cell_type": "markdown",
     "metadata": {},
     "source": [
      "<center><h3 style=\"color:green;\">IML-Stage-6/7/8. Discover, Integrate, and Analyze</h3></center>\n",
      "\n",
      "__Make your data available using standard Libre/Free open source software (Foss) tools__\n",
      "\n",
      "To discover data:\n",
      "\n",
      "- Advertise your data with Foss tools like RSS or Atom.\n",
      "- Use standard language and terms regarding data reuse.\n",
      "- Ensure Web Accessibility as per the W3C guidelines.\n",
      "\n",
      "While integrating, \n",
      "\n",
      "- Consider the compatibility of the data you are integrating.\n",
      "- Document the data processing (new data may be created, for instance visualizations, plots, statistical outputs)\n",
      "- Document that steps used to integrate disparate datasets - a new dataset created by integrating multiple datasets, geospatial data parameters, etc..\n",
      "\n",
      "While Analyzing,\n",
      "\n",
      "- Consider data compatibility\n",
      "- Ensure datasets used are reproducible\n",
      "- Identify most appropriate software\n"
     ]
    },
    {
     "cell_type": "markdown",
     "metadata": {
      "slideshow": {
       "slide_type": "slide"
      }
     },
     "source": [
      "### <center>Conclusions</center>\n",
      "\n",
      "- We've introduced the Information/data Management Lifecycle vis-a-vis the important role and steps taken for data visualisation.\n",
      "\n",
      "- Next:: Steps needed to be taken before visualisation using the EOL website as an example."
     ]
    },
    {
     "cell_type": "markdown",
     "metadata": {},
     "source": [
      "<center><h6 style=\"color:#800800\">Previous [directory : 2014-dataviz](http://nbviewer.ipython.org/github/svaksh/jna/tree/master/2014-dataviz/) || Next NoteBook: [02_DV_EOL_lifecycle.ipynb](http://nbviewer.ipython.org/github/svaksh/jna/blob/master/2014-dataviz/02_DV_EOL_lifecycle.ipynb)</h6></center>"
     ]
    }
   ],
   "metadata": {}
  }
 ]
}