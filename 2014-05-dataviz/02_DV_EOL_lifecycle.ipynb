{
 "metadata": {
  "name": "",
  "signature": "sha256:c76c806fd7e26b15c1b28a7bd8e3046a84320b5fdecbcce10fd7702fec624898"
 },
 "nbformat": 3,
 "nbformat_minor": 0,
 "worksheets": [
  {
   "cells": [
    {
     "cell_type": "markdown",
     "metadata": {},
     "source": [
      "<h5 style=\"text-align:centre; color:#800800\">The 'IRA' repo authored by [SVAKSHA](http://svaksha.com/pages/Bio) is a collection of scientific programming Jupyter/IPython notebooks with the source, copyright \u00a9 and licence info available at [GitHub](https://github.com/svaksh/jna/) and the two mirrors at [1] [GitLab](https://gitlab.com/svaksh/jna) and [2] [Devlabs](https://gitlab.devlabs.linuxassist.net/svaksh/jna).</h5>"
     ]
    },
    {
     "cell_type": "markdown",
     "metadata": {},
     "source": [
      "URI to view this notebook : [http://nbviewer.ipython.org/github/svaksh/jna/blob/master/2014-dataviz/02_DV_EOL_lifecycle.ipynb](http://nbviewer.ipython.org/github/svaksh/jna/blob/master/2014-dataviz/02_DV_EOL_lifecycle.ipynb)"
     ]
    },
    {
     "cell_type": "markdown",
     "metadata": {},
     "source": [
      "#<center> Encyclopedia of Life (EOL)</center>"
     ]
    },
    {
     "cell_type": "markdown",
     "metadata": {
      "slideshow": {
       "slide_type": "slide"
      }
     },
     "source": [
      "<center><h4 style=\"text-align:left; color:green;\">Encyclopedia of Life v2: Providing Global Access to Knowledge About Life on Earth\n",
      "</h4></center>\n",
      "\n",
      "The Encyclopedia of Life (EOL) is a knowledge bank for all the life-forms on Planet Earth, collating information that is scattered around the world in libraries, books, journals, databases, websites, laboratories, specimen collections, and in the minds of people everywhere. The EOL curates the following biodiversity information:\n",
      "\n",
      "|||||||\n",
      "| ------------- |:-------------:| -----:|-----:|-----:|-----:|\n",
      "|Animals | Mammals | Birds | Amphibians | Reptiles | Fishes |\n",
      "| Invertebrates | Crustaceans | Mollusks | Insects | Spiders | Worms | \n",
      "| Plants | Flowering Plants | Trees | Fungi | Mushrooms | Molds | \n",
      "| Bacteria | Protists | Archaea | Viruses | | |\n"
     ]
    },
    {
     "cell_type": "markdown",
     "metadata": {},
     "source": [
      "EOL was created in response to increasing demands for biodiversity information from scientists, policy makers, educators, formal and informal learners, and the general public. It integrates content from many sources but accepts and serves only materials in the public domain or explicitly licensed for re-use under Creative Commons licenses. [Link to their research paper](http://biodiversitydatajournal.com/articles.php?id=1079).\n",
      "\n",
      "EOL shares all content it collects with other projects by making it available for download through an Application Programming Interface (API). All new software developed for the project is open source and is supported by an open source software stack."
     ]
    },
    {
     "cell_type": "markdown",
     "metadata": {},
     "source": [
      "#### EOL API\n",
      "\n",
      "The [EOL API](http://eol.org/api) allows programmers to embed the functionality of EOL into their own website and tools. By using the API Methods, programmers can use the EOL datasets in their biodiversity applications : http://eol.org/info/api_overview"
     ]
    },
    {
     "cell_type": "markdown",
     "metadata": {},
     "source": [
      "## Why should a Scientist manage Information/Data?\n",
      "\n",
      "Information/data management plans differ in format and content, depending on the requirements of the scientific research project. However, some basic elements are central to effective data management : \n",
      "\n",
      "<h4 style=\"text-align:left; color:red;\">1. Libre/Open data</h4>\n",
      "\n",
      "- Keeping data in Libre/ open formats reduces wastage of public money.\n",
      "- Eliminates the creation of silo's of knowledge which is costly.\n",
      "- Libre data aids technological advancement and scientific research.\n",
      "- Reduces data entropy over time (i.e. datasets losing their value to scientists after a few years) \n",
      "- Allows constant updation to data from various contributors around the world.\n",
      "\n",
      "<h4 style=\"text-align:left; color:red;\">2. Reproducible Science benefits the scientific community</h4>\n",
      "\n",
      "- Reproducible data is one that anyone can (re)use, verify and (re)interpret.\n",
      "- Synchronized data is easier for all collaborators to understand and use.\n",
      "- Reproducible science ensures the validity of thhe original experiment after a period of time has passed. \n",
      "\n",
      "<h4 style=\"text-align:left; color:red;\">3. Benefits all project collaborators and the public</h4>\n",
      "\n",
      "- Spend less time on data management and more time on research by investing the time and energy before the first piece of data is collected. \n",
      "- The research data is easier to find, use, and analyze.\n",
      "- Comprehensive description of the data, metadata and contextual information are the key components that help future researchers produce reproducible science.\n",
      "- Simple: non-professional programmers can use it effectively\n",
      "  + great documentation"
     ]
    },
    {
     "cell_type": "markdown",
     "metadata": {},
     "source": [
      "<h2 style=\"color:blue;\">EOL v2 Homepage</h2>"
     ]
    },
    {
     "cell_type": "markdown",
     "metadata": {},
     "source": [
      "<img src=\"files/images/f1_eol_homepage.jpg\" width=750>\n",
      "__Figure-1. EOL Homepage__"
     ]
    },
    {
     "cell_type": "markdown",
     "metadata": {},
     "source": [
      "When a member is logged in, the upper right corner of the page features links to member profile, personalized newsfeeds, and other information. \n",
      "\n",
      "Below the site search box, the \"March of Life\" thumbnails provide links to a sample of taxon pages drawn at random from pages above a minimal richness threshold. \n",
      "\n",
      "Two columns then feature EOL-related news items and an overview of recent community activity, followed by selected site statistics with a link to more detailed statistics over time. \n",
      "\n",
      "The site footer provides quick access to gateway pages (see below) and other site documentation."
     ]
    },
    {
     "cell_type": "markdown",
     "metadata": {},
     "source": [
      "<h2 style=\"color:blue;\">The Overview Tab</h2>"
     ]
    },
    {
     "cell_type": "markdown",
     "metadata": {},
     "source": [
      "<img src=\"files/images/f2_overview_tab.jpg\">\n",
      "\n",
      "__Figure-2. The Overview tab.__"
     ]
    },
    {
     "cell_type": "markdown",
     "metadata": {},
     "source": [
      "The Overview tab is the default view of an EOL taxon page. It features:\n",
      "\n",
      "- a sample of images, including a map, if available, \n",
      "- a taxon hierarchy with links to other pages, \n",
      "- a brief introduction to the taxon (if available), \n",
      "- an activity feed, and \n",
      "- links to relevant collections and communities."
     ]
    },
    {
     "cell_type": "markdown",
     "metadata": {},
     "source": [
      "<h2 style=\"color:red;\">Steps needed to be taken before visualisation!?</h2>\n",
      "\n",
      "The __entire lifecycle consisting of 8 stages__ are equally important and must be undertaken before visualization. For example: In the EOL site, the __Taxon Pages are the main organizational unit__ - they present a standardized page for every taxonomic entity that the system recognizes. \n",
      "\n",
      "Each Taxon Page has 9 tabs: __Overview, Details, Media, Maps, Names, Community, Resources, Literature, and Updates__, plus an additional tab for EOL curators, Worklist. The default Overview (Figure-2, shown above) tab, offers a sample of information available on the other tabs and links to more detailed information. \n",
      "\n",
      "The Details, Media, Maps, Names, Resources, and Literature tabs display aggregated, topical information about the taxon as provided by EOL partners and members, including interactive GBIF occurrence maps and references from the Biodiversity Heritage Library, BHL. \n",
      "\n",
      "For example, BHL runs TaxonFinder on its documents to find biological name strings, which EOL then indexes. Any time the BHL tab is visited on a Taxon Page the system offers links to all pages in BHL that include any of the scientific (not common) names of the taxon page.\n"
     ]
    },
    {
     "cell_type": "markdown",
     "metadata": {},
     "source": [
      "<h2 style=\"color:blue;\">Data Curation :: High-level data flow from content partners into EOL</h2> "
     ]
    },
    {
     "cell_type": "markdown",
     "metadata": {},
     "source": [
      "<img src=\"files/images/f3_highl_dataflow_cp.jpg\" width=750>\n",
      "__Figure-3.High level Dataflow from Content partners into EOL.__"
     ]
    },
    {
     "cell_type": "markdown",
     "metadata": {},
     "source": [
      "Content partners make available EOL data transfer documents (resource documents) that are periodically indexed by EOL. These provide names, name hierarchies, and associated data objects to EOL. EOL aggregates these data and presents them on Taxon Pages. The content assigned to a Taxon Page can be reviewed, hidden, or reassigned to other Taxon Pages by EOL Curators."
     ]
    },
    {
     "cell_type": "markdown",
     "metadata": {},
     "source": [
      "<h2 style=\"color:blue;\">The EOL richness score</h2> "
     ]
    },
    {
     "cell_type": "markdown",
     "metadata": {},
     "source": [
      "<img src=\"files/images/f4_richness_score.jpg\" width=750>\n",
      "__Figure-4. EOL richness score.__"
     ]
    },
    {
     "cell_type": "markdown",
     "metadata": {},
     "source": [
      "The EOL richness score is the sum of three weighted components: \n",
      "\n",
      "- __Breadth__, which considers the different media types of information objects (including the number of different subjects available for text), \n",
      "- __Depth__, which considers both average and total number of words in text objects, and\n",
      "- __Diversity__, which considers the number of different sources of information, or providers. \n",
      "   \n",
      "Normalized object values are scaled to be between 0 and 1 and put on a log-based scale such that the first objects counts more than the second up to a chosen limit at which point the value is 1 and additional objects of that type have no impact on the richness. The final score is multiplied by 100, so that it ranges from 0 to 100. For more detailed information, see [the information page for the richness score](http://eol.org/info/richness_score)."
     ]
    },
    {
     "cell_type": "markdown",
     "metadata": {},
     "source": [
      "<h2 style=\"color:blue;\">Software stack for the production EOL web-servers.</h2> "
     ]
    },
    {
     "cell_type": "markdown",
     "metadata": {},
     "source": [
      "<img src=\"files/images/f5_software_stack.jpg\" width=750>\n",
      "__Figure-5. Software stack for the production EOL web-servers.__"
     ]
    },
    {
     "cell_type": "markdown",
     "metadata": {},
     "source": [
      "The vast majority of the code written specifically for EOL is in:\n",
      "\n",
      "- **Ruby** \u2013 Ruby on Rails (RoR) platform which handles the website and the API, and \n",
      "- **PHP** \u2013 which handles the content import process and provides some administrative interfaces.\n",
      "\n",
      "The source code is Foss licenced and they use Git as their distributed version control system (DVCS). Their source code is freely available on GitHub : [https://github.com/EOL](https://github.com/EOL)\n",
      "\n",
      "The EOL web services has a public API medium to access their datasets programmatically, but before we write any code we have to get some knowledge about their API's, the format (JSON, XML), Data structures, etc.. from their public data API Service endpoint: http://eol.org/api"
     ]
    },
    {
     "cell_type": "markdown",
     "metadata": {},
     "source": [
      "<h3 style=\"color:green;\">Licenses - Creative Commons and other licenses for data objects on EOL.</h3> \n",
      "\n",
      "<img src=\"files/images/f7_Licenses_EOL.jpg\" width=750>\n",
      "__Figure-7. Distribution of Creative Commons and other licenses for data objects on EOL.__\n",
      "\n",
      "Here, the above figure shows the distribution of Creative Commons and other licenses for data objects on EOL. \n",
      "\n",
      "**Legend**\n",
      "\n",
      "- **CC-BY** = Creative Commons Attribution license; \n",
      "- **NC** = Non-commercial restriction; \n",
      "- **SA** = Share-alike restrictions. \n",
      "- Objects with **gnu-gpl/gnu-fdl** licenses (3903 images and 21 text articles) are not shown. \n",
      "\n",
      "Overall, as of July 2013, EOL has 3,192,609 text articles, 1,812,295 images, 806,664 maps, 30,366 sounds, and 10,219 videos ([Suppl. material 4](http://biodiversitydatajournal.com/articles.php?id=1079&display_type=list&element_type=2))."
     ]
    },
    {
     "cell_type": "markdown",
     "metadata": {},
     "source": [
      "<h2 style=\"color:blue;\">Encyclopedia of Life growth: 2008-2013.</h2> "
     ]
    },
    {
     "cell_type": "markdown",
     "metadata": {},
     "source": [
      "<img src=\"files/images/f6_EOL_growth_2008-2013.jpg\" width=750>\n",
      "__Figure-6. Growth in Encyclopedia of Life from 2008-2013.__"
     ]
    },
    {
     "cell_type": "markdown",
     "metadata": {},
     "source": [
      "- **A.** Taxon pages with content (at least one text article, image, map, video, or sound) (Suppl. material 1). \n",
      "- **B.** Published resources (content import files). A provider may submit more than one resource file, for example when providing different kinds of content (Suppl. material 2). \n",
      "- **C.** Registered EOL members (Suppl. material 3)."
     ]
    },
    {
     "cell_type": "markdown",
     "metadata": {},
     "source": [
      "<h4 style=\"color:green;\">Activity patterns of EOL Assistant Curators compared to Full and Master Curators.</h4> \n",
      "\n",
      "<img src=\"files/images/f8_curators_activity.jpg\" width=750>\n",
      "__Figure-8. Activity patterns of EOL Assistant Curators compared to Full and Master Curators.__\n",
      "\n",
      "Only Full and Master Curators can select preferred classifications and change the visibility and trust status of text and multimedia objects. Data Object curation by Assistant Curators is limited to adding associations between Data Objects and taxa."
     ]
    },
    {
     "cell_type": "markdown",
     "metadata": {},
     "source": [
      "<h4 style=\"color:green;\">Data Objects rating on EOL.</h4> \n",
      "\n",
      "<img src=\"files/images/f9_rating_data_objects.jpg\" width=750>\n",
      "__Figure-8. Data Object rating patterns of EOL members in relation to their curator status.__\n",
      "\n",
      "The Data Object rating patterns of EOL members in relation to their curator status shows that the __five__ stars is the highest rating, while __one__ star is the lowest rating a member can give a text or multimedia object."
     ]
    },
    {
     "cell_type": "markdown",
     "metadata": {},
     "source": [
      "<h2 style=\"color:blue;\">EOL site analytics</h2> "
     ]
    },
    {
     "cell_type": "markdown",
     "metadata": {},
     "source": [
      "<img src=\"files/images/f10_site_visitors.jpg\" width=750>\n",
      "__Figure-10. Unique visitors to EOL per month.__\n",
      "\n",
      "Unique visitors to EOL per month, September 2011-January 2014, as per Google Analytics."
     ]
    },
    {
     "cell_type": "markdown",
     "metadata": {},
     "source": [
      "<img src=\"files/images/f11_alexa_rank.jpg\" width=750>\n",
      "__Figure-11. Alexa global rank for biodiversity web sites.__\n",
      "\n",
      "Global Rank for biodiversity web sites per http://www.alexa.com/, 02/26/2014. The rank is calculated using a combination of average daily visitors to this site and pageviews on this site over the past 3 months. Lower numbers indicate greater importance, as the site with the highest combination of visitors and pageviews is ranked #1. Note however that Alexa rankings are known to be subject to considerable sampling bias since they are largely based on the behavior of users browsing with an Alexa-compatible toolbar (Lo and Sharma Sedhain 2006)."
     ]
    },
    {
     "cell_type": "markdown",
     "metadata": {},
     "source": [
      "<img src=\"files/images/f12_biodiversity_PageRank.jpg\" width=750>\n",
      "__Figure-12. Google Page Rank for biodiversity web sites.__\n",
      "\n",
      "The Google PageRank\u2122 of various biodiversity websites, as per http://www.prchecker.info/, 02/22/2014; where larger numbers indicate greater importance, and webpages with a higher PageRank are more likely to appear at the top of Google search results."
     ]
    },
    {
     "cell_type": "markdown",
     "metadata": {},
     "source": [
      "### Conclusions\n",
      "\n",
      "- Here, we've seen the steps that need to be taken before data visualization as demonstrated by the EOL website.\n",
      "\n",
      "- Next:: API demo, Plotting data from the EOL API."
     ]
    },
    {
     "cell_type": "markdown",
     "metadata": {},
     "source": [
      "<center><h6 style=\"text-align:centre; color:#800800\">|| Previous NoteBook: [01_DV_IML_intro](http://nbviewer.ipython.org/github/svaksh/jna/blob/master/2014-dataviz/01_DV_IML_intro.ipynb) || Next NoteBook: [03_DV_EOL_plots](https://github.com/svaksh/jna/tree/master/2014-dataviz/03_DV_EOL_plots.ipynb) ||</h6></center>"
     ]
    }
   ],
   "metadata": {}
  }
 ]
}